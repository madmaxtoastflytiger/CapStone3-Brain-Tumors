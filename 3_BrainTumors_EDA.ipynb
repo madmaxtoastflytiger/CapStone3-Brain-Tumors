{
 "cells": [
  {
   "cell_type": "markdown",
   "metadata": {},
   "source": [
    "# Predictive Brain Tumor Image AI Project - EDA\n",
    "To make an image-processing brain tumor predictive model to automate on scale."
   ]
  },
  {
   "cell_type": "code",
   "execution_count": null,
   "metadata": {},
   "outputs": [],
   "source": []
  },
  {
   "cell_type": "code",
   "execution_count": null,
   "metadata": {},
   "outputs": [],
   "source": []
  },
  {
   "cell_type": "markdown",
   "metadata": {},
   "source": [
    "# Brain Tumor info\n",
    "\n",
    "Glioma: A type of cancer arising from glial cells in the brain or spinal cord.\n",
    "Meningioma: Usually a benign tumor from the meninges; rarely malignant.\n",
    "Notumor: Means no tumor was found.\n",
    "Pituitary: Refers to the gland; tumors (mostly benign) can form, rarely cancerous.\n",
    "\n",
    "So I am thinking of making Glioma classified as cancer in training \n",
    "and Notumor (no tumor), Meningioma, and Pituitary as no cancer in training"
   ]
  },
  {
   "cell_type": "markdown",
   "metadata": {},
   "source": []
  }
 ],
 "metadata": {
  "language_info": {
   "name": "python"
  }
 },
 "nbformat": 4,
 "nbformat_minor": 2
}
