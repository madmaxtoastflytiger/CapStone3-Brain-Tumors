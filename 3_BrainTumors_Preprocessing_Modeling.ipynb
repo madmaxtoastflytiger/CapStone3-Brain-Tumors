{
 "cells": [
  {
   "cell_type": "markdown",
   "metadata": {},
   "source": [
    "# Predictive Brain Tumor Image AI Project - Preprocessing & Modeling\n",
    "\n",
    "To make an image-processing brain tumor predictive model to automate on scale.\n",
    "\n",
    "#################################################################\n",
    "\n",
    "Brain MRI info\n",
    "- Glioma: A type of cancer arising from glial cells in the brain or spinal cord.\n",
    "- Meningioma: Usually a benign tumor from the meninges; rarely malignant.\n",
    "- Notumor: Means no tumor was found.\n",
    "- Pituitary: Refers to the gland; tumors (mostly benign) can form, rarely cancerous.\n",
    "\n",
    "#################################################################\n",
    "\n",
    "The Plan:\n",
    "- the end goal is to make a model where you input image data of Brain MRI and will classify either Cancer or No Cancer.\n",
    "- We will be experimenting with different data sets and different model methods.\n",
    " - Idea 1 is 4 classes (glioma, meningioma, notumor, pituitary), and have the model try to classify the 4 classes which will will then be organized into 2 classification (cancer or not).\n",
    "    - The idea is that the model will place more effort in separating into 4 classification, which already has balanced data and thus be more accurate. And then we can add another layer to organized the results of 4 classifications into the 2 classifications of either cancer or no cancer.\n",
    " - Idea 2 is to have the Glioma class as cancer and the rest of the classes merged as not cancer. Then train the AI to classify between the 2 classes. But this will create a data imbalance issue that we will have to address.\n",
    "- And each of those 2 ideas will have 2 data sets each as one is either using the non-augmented data (~6K image data so small and use pytorches random augmentation) or the augmented data (~ 87K image data)\n",
    "\n",
    "#################################################################\n",
    "\n",
    "The 2 Datasets:\n",
    "|               | 4 classes          | 2 classes             |\n",
    "|---------------|--------------------|-----------------------|\n",
    "| Non-Augmented | Dataset 1          | Dataset 2             |\n",
    "\n",
    "#################################################################\n",
    "\n",
    "Cross validation:\n",
    "- Will use k-fold and divide up each dataset into multiple folds to make it easier to cross validate.\n",
    "\n",
    "#################################################################\n",
    "\n",
    "Folder Structure:\n",
    "- We will most likely be using pytorch and it's dataloader. That system likes to have the subfolders' names to apply labels to each of the images during training and testing.\n",
    "\n",
    "#################################################################\n",
    "\n",
    "Handle Data Split:\n",
    "- We are going to be testing multiple different models and data sets and use cross-validation to decide which one is the best. Since we will be using cross-validation then that means we will be splitting up the data with k-folds. Since the current data is already split up into train and test pairs, then that means I have to merge the data together and then use code to split them up into folds.\n",
    "\n",
    "#################################################################\n"
   ]
  },
  {
   "cell_type": "markdown",
   "metadata": {},
   "source": [
    "# Initial Setup"
   ]
  },
  {
   "cell_type": "code",
   "execution_count": 3,
   "metadata": {},
   "outputs": [],
   "source": [
    "import os\n",
    "import pandas as pd\n",
    "import numpy as np\n",
    "import matplotlib.pyplot as plt\n",
    "\n",
    "from PIL import Image as PILImage \n",
    "# using from PIL import Image as PILImage to count takes too long now as will try to also validate each image. We are assuming all the images are validated and are in correct format from Data Wrangling and EDA steps.\n",
    "\n",
    "import torch\n",
    "from torchvision import datasets, transforms\n",
    "from torch.utils.data import DataLoader, Subset\n",
    "from sklearn.model_selection import KFold\n",
    "from torch.utils.data import WeightedRandomSampler, DataLoader\n",
    "from sklearn.utils import resample\n",
    "\n",
    "import torch.nn as nn\n",
    "import torch.nn.functional as F\n",
    "\n",
    "\n",
    "from collections import Counter"
   ]
  },
  {
   "cell_type": "code",
   "execution_count": 4,
   "metadata": {},
   "outputs": [],
   "source": [
    "# Caching the image data paths\n",
    "\n",
    "image_dataset1_4_na_512_path = \"./ImageData-Merge_Scaled_Cropped_Resize2\"\n",
    "image_dataset2_2_na__512_path = \"./ImageData-Merge_Scaled_Cropped_Resize3\"\n",
    "image_dataset3_4_a_256_path = \"./ImageData-Merge_Scaled_Cropped_Resize2_Augmented1\"\n",
    "image_dataset4_2_a_256_path = \"./ImageData-Merge_Scaled_Cropped_Resize2_Augmented2\""
   ]
  },
  {
   "cell_type": "code",
   "execution_count": 5,
   "metadata": {},
   "outputs": [
    {
     "name": "stdout",
     "output_type": "stream",
     "text": [
      "cuda IS available\n"
     ]
    }
   ],
   "source": [
    "# check if your GPU supports CUDA\n",
    "\n",
    "if torch.cuda.is_available():\n",
    "    print('cuda IS available')\n",
    "else:\n",
    "    print('cuda IS NOT available')\n"
   ]
  },
  {
   "cell_type": "code",
   "execution_count": 6,
   "metadata": {},
   "outputs": [],
   "source": [
    "# GPU is available, so we will use it for training the model.\n",
    "device = 'cuda' "
   ]
  },
  {
   "cell_type": "markdown",
   "metadata": {},
   "source": [
    "# Data Imbalance"
   ]
  },
  {
   "cell_type": "markdown",
   "metadata": {},
   "source": [
    "## Image Distribution"
   ]
  },
  {
   "cell_type": "code",
   "execution_count": 7,
   "metadata": {},
   "outputs": [],
   "source": [
    "# Bar Graph Code\n",
    "def quick_plot_bar_graph(categories, values, figsize = (10, 6), title='Image Counts with Percentages', xlabel='Brain Tumor Types', ylabel='Count'):\n",
    "    \"\"\"\n",
    "    Plots a bar graph with counts and percentages displayed on top of the bars.\n",
    "\n",
    "    Parameters:\n",
    "    - categories: List of category names (x-axis).\n",
    "    - values: List of corresponding values (heights of the bars).\n",
    "    \"\"\"\n",
    "    # Calculate total for percentage calculation\n",
    "    total = sum(values)\n",
    "    \n",
    "    # Plot the bar graph\n",
    "    plt.figure(figsize=figsize)\n",
    "    bars = plt.bar(categories, values, color='skyblue')\n",
    "\n",
    "    # Add count and percentage on top of each bar\n",
    "    for bar, value in zip(bars, values):\n",
    "        height = bar.get_height()\n",
    "        percentage = (value / total) * 100\n",
    "        plt.text(bar.get_x() + bar.get_width() / 2, height, \n",
    "                 f'{value}\\n({percentage:.1f}%)', \n",
    "                 ha='center', va='bottom', fontsize=10)\n",
    "\n",
    "    # Add titles and labels\n",
    "    plt.title(title, fontsize=16)\n",
    "    plt.xlabel(xlabel, fontsize=12)\n",
    "    plt.ylabel(ylabel, fontsize=12)\n",
    "\n",
    "    # Show the plot\n",
    "    plt.show()"
   ]
  },
  {
   "cell_type": "code",
   "execution_count": 8,
   "metadata": {},
   "outputs": [
    {
     "name": "stdout",
     "output_type": "stream",
     "text": [
      "Glioma: 1619\n",
      "Meningioma: 1634\n",
      "NoTumor: 1726\n",
      "Pituitary: 1740\n"
     ]
    },
    {
     "data": {
      "image/png": "[encoded data removed]",
      "text/plain": [
       "<Figure size 500x1000 with 1 Axes>"
      ]
     },
     "metadata": {},
     "output_type": "display_data"
    }
   ],
   "source": [
    "# Dataset 1 - 4 classes non augmented\n",
    "\n",
    "# Load dataset\n",
    "dataset = datasets.ImageFolder(root=image_dataset1_4_na_512_path)\n",
    "\n",
    "# Get class distribution\n",
    "class_counts = Counter(dataset.targets)\n",
    "\n",
    "# Map indices to class names\n",
    "class_names = dataset.classes\n",
    "\n",
    "# Extract counts into variables\n",
    "glioma_count_4_na = class_counts[dataset.class_to_idx['glioma']]\n",
    "meningioma_count_4_na = class_counts[dataset.class_to_idx['meningioma']]\n",
    "notumor_count_4_na = class_counts[dataset.class_to_idx['notumor']]\n",
    "pituitary_count_4_na = class_counts[dataset.class_to_idx['pituitary']]\n",
    "\n",
    "# Print counts\n",
    "print(f\"Glioma: {glioma_count_4_na}\")\n",
    "print(f\"Meningioma: {meningioma_count_4_na}\")\n",
    "print(f\"NoTumor: {notumor_count_4_na}\")\n",
    "print(f\"Pituitary: {pituitary_count_4_na}\")\n",
    "\n",
    "quick_plot_bar_graph(['Glioma','Meningioma','notumor','Pituitary'], [glioma_count_4_na,meningioma_count_4_na,notumor_count_4_na,pituitary_count_4_na], figsize = (5, 10), title='Image Counts with Percentages', xlabel='Brain Tumor Types', ylabel='Count')\n",
    "\n",
    "# There is not much data imbalance so it's good to go with this data set. "
   ]
  },
  {
   "cell_type": "code",
   "execution_count": 9,
   "metadata": {},
   "outputs": [
    {
     "name": "stdout",
     "output_type": "stream",
     "text": [
      "Cancer: 1619\n",
      "NonCancer: 5100\n"
     ]
    },
    {
     "data": {
      "image/png": "[encoded data removed]",
      "text/plain": [
       "<Figure size 500x1000 with 1 Axes>"
      ]
     },
     "metadata": {},
     "output_type": "display_data"
    }
   ],
   "source": [
    "# Dataset 2 - 2 classes non augmented\n",
    "\n",
    "# Load dataset\n",
    "dataset = datasets.ImageFolder(root=image_dataset2_2_na__512_path)\n",
    "\n",
    "# Get class distribution\n",
    "class_counts = Counter(dataset.targets)\n",
    "\n",
    "# Map indices to class names\n",
    "class_names = dataset.classes\n",
    "\n",
    "# Extract counts into variables\n",
    "cancer_count_2_na = class_counts[dataset.class_to_idx['Cancer']]\n",
    "noncancer_count_2_na = class_counts[dataset.class_to_idx['NonCancer']]\n",
    "\n",
    "# Print counts\n",
    "print(f\"Cancer: {cancer_count_2_na}\")\n",
    "print(f\"NonCancer: {noncancer_count_2_na}\")\n",
    "\n",
    "\n",
    "quick_plot_bar_graph(['Cancer', 'Non-Cancer'], [cancer_count_2_na, noncancer_count_2_na], figsize = (5, 10), title='Image Counts with Percentages', xlabel='Brain Tumor Types', ylabel='Count')\n",
    "\n",
    "# there is a definite data imbalance with this\n"
   ]
  },
  {
   "cell_type": "code",
   "execution_count": 10,
   "metadata": {},
   "outputs": [
    {
     "name": "stdout",
     "output_type": "stream",
     "text": [
      "image imbalance ratio: 3.1500926497838173\n"
     ]
    }
   ],
   "source": [
    "# Checking the data imbalance ratio\n",
    "\n",
    "image_imbalance_ratio = noncancer_count_2_na / cancer_count_2_na\n",
    "\n",
    "print(f\"image imbalance ratio: {image_imbalance_ratio}\")\n",
    "\n",
    "# The dataset is approximately 3:1, meaning the cancer class is underrepresented."
   ]
  },
  {
   "cell_type": "markdown",
   "metadata": {},
   "source": [
    "# How many splits for Cross Validation"
   ]
  },
  {
   "cell_type": "code",
   "execution_count": 11,
   "metadata": {},
   "outputs": [
    {
     "name": "stdout",
     "output_type": "stream",
     "text": [
      "Total number of images in non augmented sample: 6719\n"
     ]
    }
   ],
   "source": [
    "total_nonaugmented_images = noncancer_count_2_na + cancer_count_2_na\n",
    "\n",
    "print(f'Total number of images in non augmented sample: {total_nonaugmented_images}')"
   ]
  },
  {
   "cell_type": "code",
   "execution_count": 12,
   "metadata": {},
   "outputs": [],
   "source": [
    "def amount_each_fold(folds = 5):\n",
    "    print (f'number of folds: {folds}')\n",
    "    nonaugmented_images_each_folds = total_nonaugmented_images / folds\n",
    "\n",
    "    print(f'non augmented sample each fold: {nonaugmented_images_each_folds}')\n",
    "    print()"
   ]
  },
  {
   "cell_type": "code",
   "execution_count": 13,
   "metadata": {},
   "outputs": [
    {
     "name": "stdout",
     "output_type": "stream",
     "text": [
      "number of folds: 5\n",
      "non augmented sample each fold: 1343.8\n",
      "\n",
      "number of folds: 10\n",
      "non augmented sample each fold: 671.9\n",
      "\n",
      "number of folds: 3\n",
      "non augmented sample each fold: 2239.6666666666665\n",
      "\n"
     ]
    }
   ],
   "source": [
    "amount_each_fold(5)\n",
    "\n",
    "amount_each_fold(10)\n",
    "\n",
    "amount_each_fold(3)\n"
   ]
  },
  {
   "cell_type": "markdown",
   "metadata": {},
   "source": [
    "## Discovery\n",
    "\n",
    "Looks like a good number of folds is 5. This also allows us to use the 80 20 rule when assembling them as well."
   ]
  },
  {
   "cell_type": "markdown",
   "metadata": {},
   "source": [
    "# Creating Dataloader & Folds"
   ]
  },
  {
   "cell_type": "code",
   "execution_count": 14,
   "metadata": {},
   "outputs": [],
   "source": [
    "def get_transforms(augment=True, resize=(128, 128)):\n",
    "    \"\"\"\n",
    "    Returns the transform pipeline for the dataset.\n",
    "\n",
    "    Args:\n",
    "        augment (bool): Whether to include augmentation transforms.\n",
    "        resize (tuple): Target image size.\n",
    "\n",
    "    Returns:\n",
    "        transforms.Compose: Transformation pipeline.\n",
    "    \"\"\"\n",
    "    if augment:\n",
    "        return transforms.Compose([\n",
    "            transforms.Grayscale(num_output_channels=1),  # Ensure images are single-channel as all MRI are grayscaled\n",
    "            transforms.RandomHorizontalFlip(),\n",
    "            transforms.RandomRotation(10),\n",
    "            transforms.Resize(resize),\n",
    "            transforms.ToTensor(),\n",
    "        ])\n",
    "    else:\n",
    "        return transforms.Compose([\n",
    "            transforms.Grayscale(num_output_channels=1),  # Ensure images are single-channel as all MRI are grayscaled\n",
    "            transforms.Resize(resize),\n",
    "            transforms.ToTensor(),\n",
    "        ])\n",
    "    \n",
    "\n",
    "def get_dataset(folder_path, transform):\n",
    "    \"\"\"\n",
    "    Loads the dataset using torchvision.datasets.ImageFolder.\n",
    "\n",
    "    Args:\n",
    "        folder_path (str): Path to the dataset folder.\n",
    "        transform (transforms.Compose): Transformations to apply.\n",
    "\n",
    "    Returns:\n",
    "        ImageFolder: The dataset object.\n",
    "    \"\"\"\n",
    "    return datasets.ImageFolder(root=folder_path, transform=transform)\n",
    "\n",
    "\n",
    "def calculate_class_weights(dataset):\n",
    "    \"\"\"\n",
    "    Calculates class weights for handling class imbalance.\n",
    "\n",
    "    Args:\n",
    "        dataset (ImageFolder): The dataset object.\n",
    "\n",
    "    Returns:\n",
    "        torch.Tensor: Class weights.\n",
    "    \"\"\"\n",
    "    class_counts = [0] * len(dataset.classes)\n",
    "    for _, label in dataset:\n",
    "        class_counts[label] += 1\n",
    "\n",
    "    class_weights = 1.0 / torch.tensor(class_counts, dtype=torch.float)\n",
    "    return class_weights\n",
    "\n",
    "\n",
    "def create_dataloader(dataset, class_weights, batch_size=32):\n",
    "    \"\"\"\n",
    "    Creates a DataLoader with WeightedRandomSampler to handle class imbalance.\n",
    "\n",
    "    Args:\n",
    "        dataset (ImageFolder): The dataset object.\n",
    "        class_weights (torch.Tensor): Class weights for imbalance handling.\n",
    "        batch_size (int): Batch size for the DataLoader.\n",
    "\n",
    "    Returns:\n",
    "        DataLoader: A PyTorch DataLoader object.\n",
    "    \"\"\"\n",
    "    sample_weights = [class_weights[label] for _, label in dataset]\n",
    "    sampler = WeightedRandomSampler(weights=sample_weights, num_samples=len(sample_weights), replacement=True)\n",
    "    dataloader = DataLoader(dataset, batch_size=batch_size, sampler=sampler)\n",
    "    return dataloader\n",
    "\n",
    "def split_dataset(dataset, n_splits=5):\n",
    "    \"\"\"\n",
    "    Splits the dataset into K folds for cross-validation.\n",
    "\n",
    "    Args:\n",
    "        dataset (ImageFolder): The dataset object.\n",
    "        n_splits (int): Number of folds for cross-validation.\n",
    "\n",
    "    Returns:\n",
    "        list: A list of Subset objects, one for each fold.\n",
    "    \"\"\"\n",
    "    dataset_size = len(dataset)\n",
    "    fold_size = dataset_size // n_splits\n",
    "    indices = torch.randperm(dataset_size).tolist()\n",
    "\n",
    "    folds = [\n",
    "        Subset(dataset, indices[i * fold_size:(i + 1) * fold_size])\n",
    "        for i in range(n_splits)\n",
    "    ]\n",
    "\n",
    "    # Handle remainder if dataset size is not perfectly divisible\n",
    "    remainder = dataset_size % n_splits\n",
    "    if remainder > 0:\n",
    "        for i in range(remainder):\n",
    "            folds[i] = Subset(dataset, indices[i * fold_size:(i + 1) * fold_size + 1])\n",
    "\n",
    "    return folds\n",
    "\n",
    "\n",
    "def get_dataset_folds(folder_path, augment_data = True, resize=(128, 128), num_splits = 5):\n",
    "    transform = get_transforms(augment=augment_data,resize=resize) # augment as the data is not augmented\n",
    "\n",
    "    # Load the dataset\n",
    "    dataset = get_dataset(folder_path, transform)\n",
    "\n",
    "    # Calculate class weights\n",
    "    class_weights = calculate_class_weights(dataset)\n",
    "\n",
    "    # Split the dataset into folds\n",
    "    folds = split_dataset(dataset, n_splits= num_splits)\n",
    "\n",
    "    return dataset, class_weights, folds \n",
    "\n",
    "def get_all_fold_dataloaders(class_weights, folds, batch_size=32, shuffle=True):\n",
    "    \"\"\"\n",
    "    Generates all possible training and validation DataLoader combinations for cross-validation.\n",
    "\n",
    "    Args:\n",
    "        class_weights (torch.Tensor): Class weights for WeightedRandomSampler.\n",
    "        folds (list): List of dataset subsets, one for each fold.\n",
    "        batch_size (int): Batch size for DataLoaders.\n",
    "        shuffle (bool): Whether to shuffle validation DataLoader.\n",
    "\n",
    "    Returns:\n",
    "        list: A list of tuples, where each tuple contains (train_loader, val_loader).\n",
    "    \"\"\"\n",
    "    dataloaders = []\n",
    "\n",
    "    for i in range(len(folds)):\n",
    "        # Use the ith fold for validation\n",
    "        validation_fold = folds[i]\n",
    "        # Use the remaining folds for training\n",
    "        training_folds = [folds[j] for j in range(len(folds)) if j != i]\n",
    "\n",
    "        # Combine training folds into a single dataset\n",
    "        training_dataset = torch.utils.data.ConcatDataset(training_folds)\n",
    "\n",
    "        # Create DataLoaders\n",
    "        train_loader = create_dataloader(training_dataset, class_weights, batch_size=batch_size)\n",
    "        val_loader = DataLoader(validation_fold, batch_size=batch_size, shuffle=shuffle)\n",
    "\n",
    "        dataloaders.append((train_loader, val_loader))\n",
    "\n",
    "\n",
    "    '''\n",
    "    How to use this function: \n",
    "\n",
    "    # Get all dataloaders for cross-validation (e.g., for the first dataset)\n",
    "    all_dataloaders1_4_na = get_all_fold_dataloaders(class_weights1_4_na, folds1_4_na, batch_size=batch_size, shuffle=shuffle)\n",
    "\n",
    "    # Iterate through all combinations\n",
    "    for fold_idx, (train_loader, val_loader) in enumerate(all_dataloaders1_4_na):\n",
    "        print(f\"Fold {fold_idx + 1}:\")\n",
    "        print(f\"Training DataLoader: {len(train_loader)} batches\")\n",
    "        print(f\"Validation DataLoader: {len(val_loader)} batches\")\n",
    "    '''\n",
    "    \n",
    "    return dataloaders\n"
   ]
  },
  {
   "cell_type": "markdown",
   "metadata": {},
   "source": [
    "## Planning out the Batch size"
   ]
  },
  {
   "cell_type": "code",
   "execution_count": 14,
   "metadata": {},
   "outputs": [
    {
     "name": "stdout",
     "output_type": "stream",
     "text": [
      "6719\n"
     ]
    }
   ],
   "source": [
    "print(total_nonaugmented_images)"
   ]
  },
  {
   "cell_type": "code",
   "execution_count": 41,
   "metadata": {},
   "outputs": [],
   "source": [
    "'''\n",
    "Batch size math and making the model run faster:\n",
    "\n",
    "To maximize the efficiency of the GPU, the batch size should be divisible by 8\n",
    "\n",
    "Trial run:\n",
    "a batch size of 32, 5 folds, and 6719 256x256 images\n",
    "the model is running about 16 min\n",
    "I check task manager and it shows that only ~8GB of vram is being used out of 24GB available, also my GPU only running at 30% efficiency. \n",
    "I want the model to run much faster with more data, so I can increase the batch size to 64 or 128.\n",
    "\n",
    "Math:\n",
    "512x512= 262,144 pixels per grayscale image, 1 grayscale pixel = 1 byte, so 262,144 bytes = 262.144 KB per grayscale image\n",
    "\n",
    "non augmented images = 6719 images\n",
    "augmented images = 87347 images\n",
    "\n",
    "262.144 KB * 6719 =  1,761,354.816 KB = 1.761354816 GB is the total size of non augmented data\n",
    "262.144 KB * 87347 =  22,897,491.968 KB = 22.897,491.968 GB is the total size of augmented data\n",
    "\n",
    "\n",
    "Batches:\n",
    "Batches mean how many images are loaded on the VRAM at the same time and processed at once. Batch size of 32 means 32 images are loaded at once and processed at once.\n",
    "augmented data in total is 22 GB and my GPU has 24 GB of VRAM which is almost it's max, but it just means I don't really need to batch / load all of it in one run.\n",
    "\n",
    "262.144 KB * 512 = 134,217.728 KB = 134.217728 MB\n",
    "This is not including the model size and other things that are loaded in the VRAM\n",
    "\n",
    "I feel like I can increase the batch size to 128 and still be able to run the model faster.\n",
    "\n",
    "I made a dummy 512 x 512 data with a batch size of 512 and the GPU did not ran out of memories.\n",
    "'''\n",
    "\n",
    "'''\n",
    "for the 6K data \n",
    "batch size 256 with 512 x 512 images took longer than 30 min to run for only 1 fold, 97% GPU utilization \n",
    "batch size 128 with 512 x 512 images took longer than 30 min to run for only 1 fold, 97% GPU utilization \n",
    "batch size 64 with 512 x 512 images took 3:50 min for 1 fold, 14 GB VRAM, 40% GPU utilization               * Chose this \n",
    "\n",
    "batch size 128 with 256 x 256 images took 6 min to run for 1 fold, and 10% gpu utilization\n",
    "batch size 256 with 256 x 256 images took 3:50 min to run for 1 fold, and 16% gpu utilization 16Gb VRAM\n",
    "batch size 384 with 256 x 256 images took longer than 6 min for 1 epoch, 99% gpu utilization\n",
    "batch size 300 with 256 x 256 images took 5 min for 1 fold, 15% gpu utilization 17 GB VRAM\n",
    "'''\n",
    "\n",
    "'''\n",
    "for the 87K data \n",
    "512x512 lag so much with 6K data we decide to lower the resolution of images to 256\n",
    "\n",
    "batch size 128 with 256 x 256 images took 5 min for 1 epoch, or 50 min for 1 fold, and 20% gpu utilization  * Chose this \n",
    "batch size 256 with 256 x 256 images took 1 hour for 1 fold, that would take too long\n",
    "'''\n",
    "\n",
    "# It looks like playing GPU by power of 2 for this data is still more efficient for the GPU architecture and thus faster"
   ]
  },
  {
   "cell_type": "markdown",
   "metadata": {},
   "source": [
    "## Defining the Dataloaders"
   ]
  },
  {
   "cell_type": "code",
   "execution_count": null,
   "metadata": {},
   "outputs": [],
   "source": [
    "# apply to all the datasets\n",
    "resize = (512, 512)\n",
    "num_splits = 5\n",
    "batch_size= 64\n",
    "shuffle = True"
   ]
  },
  {
   "cell_type": "code",
   "execution_count": 17,
   "metadata": {},
   "outputs": [],
   "source": [
    "# Dataloader 1 - 4 classes non augmented\n",
    "\n",
    "dataset1_4_na_512, class_weights1_4_na_512, folds1_4_na_512 = get_dataset_folds(image_dataset1_4_na_512_path, augment_data = True, resize=resize, num_splits = num_splits) \n",
    "# augment as the data is not augmented\n",
    "\n",
    "all_dataloaders1_4_na = get_all_fold_dataloaders(class_weights1_4_na_512, folds1_4_na_512, batch_size=batch_size, shuffle=shuffle)"
   ]
  },
  {
   "cell_type": "code",
   "execution_count": 18,
   "metadata": {},
   "outputs": [],
   "source": [
    "# Dataloader 2 - 2 classes non augmented\n",
    "\n",
    "dataset2_2_na, class_weights2_2_na_512, folds2_2_na_512 = get_dataset_folds(image_dataset2_2_na__512_path, augment_data = True, resize=resize, num_splits = num_splits) \n",
    "# augment as the data is not augmented\n",
    "\n",
    "all_dataloaders2_2_na_512 = get_all_fold_dataloaders(class_weights2_2_na_512, folds2_2_na_512, batch_size=batch_size, shuffle=shuffle)"
   ]
  },
  {
   "cell_type": "markdown",
   "metadata": {},
   "source": [
    "# Set Up Training and Validation Loop"
   ]
  },
  {
   "cell_type": "code",
   "execution_count": 21,
   "metadata": {},
   "outputs": [],
   "source": [
    "import torch.optim as optim\n",
    "from sklearn.metrics import classification_report, confusion_matrix\n",
    "\n",
    "def train_model(model, criterion, optimizer, train_loader, val_loader, num_epochs=10, device='cuda'):\n",
    "    \"\"\"\n",
    "    Train and validate the CNN model.\n",
    "\n",
    "    Args:\n",
    "        model (nn.Module): The CNN model.\n",
    "        criterion (Loss): Loss function.\n",
    "        optimizer (Optimizer): Optimizer.\n",
    "        train_loader (DataLoader): Training DataLoader.\n",
    "        val_loader (DataLoader): Validation DataLoader.\n",
    "        num_epochs (int): Number of training epochs.\n",
    "        device (str): Device to run the model on ('cuda' or 'cpu').\n",
    "\n",
    "    Returns:\n",
    "        nn.Module: Trained model.\n",
    "    \"\"\"\n",
    "    model.to(device)\n",
    "\n",
    "    for epoch in range(num_epochs):\n",
    "        # Training phase\n",
    "        model.train()\n",
    "        running_loss = 0.0\n",
    "        for inputs, labels in train_loader:\n",
    "            inputs, labels = inputs.to(device), labels.to(device)\n",
    "\n",
    "            # Zero the parameter gradients\n",
    "            optimizer.zero_grad()\n",
    "\n",
    "            # Forward pass\n",
    "            outputs = model(inputs)\n",
    "            loss = criterion(outputs, labels)\n",
    "\n",
    "            # Backward pass and optimization\n",
    "            loss.backward()\n",
    "            optimizer.step()\n",
    "\n",
    "            running_loss += loss.item()\n",
    "\n",
    "        print(f\"Epoch {epoch + 1}/{num_epochs}, Training Loss: {running_loss / len(train_loader)}\")\n",
    "\n",
    "        # Validation phase\n",
    "        model.eval()\n",
    "        val_loss = 0.0\n",
    "        y_true, y_pred = [], []\n",
    "        with torch.no_grad():\n",
    "            for inputs, labels in val_loader:\n",
    "                inputs, labels = inputs.to(device), labels.to(device)\n",
    "\n",
    "                outputs = model(inputs)\n",
    "                loss = criterion(outputs, labels)\n",
    "                val_loss += loss.item()\n",
    "\n",
    "                _, preds = torch.max(outputs, 1)\n",
    "                y_true.extend(labels.cpu().numpy())\n",
    "                y_pred.extend(preds.cpu().numpy())\n",
    "\n",
    "        print(f\"Validation Loss: {val_loss / len(val_loader)}\")\n",
    "        print(classification_report(y_true, y_pred))\n",
    "\n",
    "    return model\n"
   ]
  },
  {
   "cell_type": "markdown",
   "metadata": {},
   "source": [
    "# Defining the CNN Model"
   ]
  },
  {
   "cell_type": "code",
   "execution_count": 22,
   "metadata": {},
   "outputs": [
    {
     "data": {
      "text/plain": [
       "'\\n\\nConvolution Layer Output Size Calculation:\\noutput size = ((input_size - kernel_size + 2*padding) / stride) + 1\\n\\nPooling Layer Output Size Calculation:\\noutput size = ((input_size - kernel_size) / stride) + 1\\n\\n\\nimage sizes are all 512 x 512\\n\\n\\nKernel size = 3x3, Stride = 1, Padding = 1\\noutput size = ((512 - 3 + 2*1) / 1) + 1 = 512\\n\\nKernel size = 2x2, Stride = 2\\noutput size = ((512 - 2) / 2) + 1 = 256\\n\\n'"
      ]
     },
     "execution_count": 22,
     "metadata": {},
     "output_type": "execute_result"
    }
   ],
   "source": [
    "'''\n",
    "\n",
    "Convolution Layer Output Size Calculation:\n",
    "output size = ((input_size - kernel_size + 2*padding) / stride) + 1\n",
    "\n",
    "Pooling Layer Output Size Calculation:\n",
    "output size = ((input_size - kernel_size) / stride) + 1\n",
    "\n",
    "\n",
    "image sizes are all 512 x 512\n",
    "\n",
    "\n",
    "Kernel size = 3x3, Stride = 1, Padding = 1\n",
    "output size = ((512 - 3 + 2*1) / 1) + 1 = 512\n",
    "\n",
    "Kernel size = 2x2, Stride = 2\n",
    "output size = ((512 - 2) / 2) + 1 = 256\n",
    "\n",
    "'''"
   ]
  },
  {
   "cell_type": "code",
   "execution_count": 56,
   "metadata": {},
   "outputs": [],
   "source": [
    "# not used anymore as this model is too rigid for rapid experimenting.\n",
    "\n",
    "# this class hard codes the model only for 512 x 512 images, so it's not very flexible, but it's a good starting point for a simple CNN model.\n",
    "\n",
    "class SimpleCNN_512(nn.Module):\n",
    "    def __init__(self, num_classes):\n",
    "        super(SimpleCNN_512, self).__init__()\n",
    "        self.conv1 = nn.Conv2d(in_channels=1, out_channels=32, kernel_size=3, stride=1, padding=1)  # in_channels=1 for grayscale images\n",
    "        self.conv2 = nn.Conv2d(in_channels=32, out_channels=64, kernel_size=3, stride=1, padding=1)\n",
    "        self.pool = nn.MaxPool2d(kernel_size=2, stride=2)\n",
    "\n",
    "        # Flattened size: 128 channels * 128 height * 64 width\n",
    "        self.fc1 = nn.Linear(128 * 128 * 64, 128)  # HAVE TO CHANGE THIS IF IMAGE DIMENSION CHANGE\n",
    "        self.fc2 = nn.Linear(128, num_classes) # num_classes = number of output classes\n",
    "\n",
    "    def forward(self, x):\n",
    "        x = F.relu(self.conv1(x))  # Conv1 + ReLU\n",
    "        x = self.pool(x)          # Pool1\n",
    "        x = F.relu(self.conv2(x))  # Conv2 + ReLU\n",
    "        x = self.pool(x)          # Pool2\n",
    "        x = x.view(x.size(0), -1)  # Flatten feature map \n",
    "        x = F.relu(self.fc1(x))   # Fully connected layer 1\n",
    "        x = self.fc2(x)           # Fully connected layer 2 (output)\n",
    "        return x\n",
    "\n",
    "# The `forward` method defines how the model processes input data and generates output.\n",
    "# You do not call the `forward` method directly; instead, you call the model, which internally calls `forward`."
   ]
  },
  {
   "cell_type": "code",
   "execution_count": 62,
   "metadata": {},
   "outputs": [],
   "source": [
    "class FlexibleCNN(nn.Module):\n",
    "    def __init__(self, num_classes):\n",
    "        super(FlexibleCNN, self).__init__()\n",
    "        self.conv1 = nn.Conv2d(in_channels=1, out_channels=32, kernel_size=3, stride=1, padding=1)  # in_channels=1 for grayscale images\n",
    "        self.conv2 = nn.Conv2d(in_channels=32, out_channels=64, kernel_size=3, stride=1, padding=1)\n",
    "        self.pool = nn.MaxPool2d(kernel_size=2, stride=2)\n",
    "\n",
    "        # Fully connected layers\n",
    "        self.fc1 = None  # Placeholder; initialized later based on input size\n",
    "        self.fc2 = nn.Linear(128, num_classes)  # Final layer depends only on num_classes\n",
    "\n",
    "    def forward(self, x):\n",
    "        # Pass through convolutional and pooling layers\n",
    "        x = F.relu(self.conv1(x))  # Conv1 + ReLU\n",
    "        x = self.pool(x)          # Pool1\n",
    "        x = F.relu(self.conv2(x))  # Conv2 + ReLU\n",
    "        x = self.pool(x)          # Pool2\n",
    "\n",
    "        # Initialize fc1 dynamically based on the flattened size\n",
    "        if self.fc1 is None:\n",
    "            flattened_size = x.view(x.size(0), -1).size(1)\n",
    "            self.fc1 = nn.Linear(flattened_size, 128).to(x.device)\n",
    "\n",
    "        x = x.view(x.size(0), -1)  # Flatten feature map\n",
    "        x = F.relu(self.fc1(x))   # Fully connected layer 1\n",
    "        x = self.fc2(x)           # Fully connected layer 2 (output)\n",
    "        return x"
   ]
  },
  {
   "cell_type": "markdown",
   "metadata": {},
   "source": [
    "## Testing the model if compatible with image dimensions"
   ]
  },
  {
   "cell_type": "code",
   "execution_count": 24,
   "metadata": {},
   "outputs": [
    {
     "data": {
      "text/plain": [
       "'\\n# Dummy input with batch size of 512 and image size of 512x512\\ndummy_input = torch.randn(512, 1, 512, 512)\\n\\n# Initialize the model\\nnum_classes = 4  # Example number of classes\\nmodel = SimpleCNN(num_classes=num_classes)\\n\\n# Test forward pass\\noutput = model(dummy_input)\\nprint(f\"Output shape: {output.shape}\")  # Should be [32, num_classes]\\n'"
      ]
     },
     "execution_count": 24,
     "metadata": {},
     "output_type": "execute_result"
    }
   ],
   "source": [
    "# Test using CPU\n",
    "\n",
    "'''\n",
    "# Dummy input with batch size of 512 and image size of 512x512\n",
    "dummy_input = torch.randn(512, 1, 512, 512)\n",
    "\n",
    "# Initialize the model\n",
    "num_classes = 4  # Example number of classes\n",
    "model = SimpleCNN(num_classes=num_classes)\n",
    "\n",
    "# Test forward pass\n",
    "output = model(dummy_input)\n",
    "print(f\"Output shape: {output.shape}\")  # Should be [32, num_classes]\n",
    "'''"
   ]
  },
  {
   "cell_type": "code",
   "execution_count": 25,
   "metadata": {},
   "outputs": [
    {
     "data": {
      "text/plain": [
       "'dummy_input = torch.randn(32, 1, 512, 512).cuda()  # Move input tensor to GPU\\n\\n# Initialize the model\\nnum_classes = 4  # Example number of classes\\nmodel = SimpleCNN(num_classes=num_classes).cuda()  # Move model to GPU\\n\\n# Test forward pass\\noutput = model(dummy_input)  # Forward pass on GPU\\nprint(f\"Output shape: {output.shape}\")  # Should be [512, num_classes]\\n\\n# finish the work really fast on GPU'"
      ]
     },
     "execution_count": 25,
     "metadata": {},
     "output_type": "execute_result"
    }
   ],
   "source": [
    "# Test using GPU with Dummy input with batch size of 32 and image size of 512x512\n",
    "'''dummy_input = torch.randn(32, 1, 512, 512).cuda()  # Move input tensor to GPU\n",
    "\n",
    "# Initialize the model\n",
    "num_classes = 4  # Example number of classes\n",
    "model = SimpleCNN(num_classes=num_classes).cuda()  # Move model to GPU\n",
    "\n",
    "# Test forward pass\n",
    "output = model(dummy_input)  # Forward pass on GPU\n",
    "print(f\"Output shape: {output.shape}\")  # Should be [512, num_classes]\n",
    "\n",
    "# finish the work really fast on GPU'''"
   ]
  },
  {
   "cell_type": "code",
   "execution_count": 26,
   "metadata": {},
   "outputs": [
    {
     "data": {
      "text/plain": [
       "'dummy_input = torch.randn(512, 1, 512, 512).cuda()  # Move input tensor to GPU\\n\\n# Initialize the model\\nnum_classes = 4  # Example number of classes\\nmodel = SimpleCNN(num_classes=num_classes).cuda()  # Move model to GPU\\n\\n# Test forward pass\\noutput = model(dummy_input)  # Forward pass on GPU\\nprint(f\"Output shape: {output.shape}\")  # Should be [512, num_classes]'"
      ]
     },
     "execution_count": 26,
     "metadata": {},
     "output_type": "execute_result"
    }
   ],
   "source": [
    "# Test using GPU with Dummy input with batch size of 512 and image size of 512x512\n",
    "'''dummy_input = torch.randn(512, 1, 512, 512).cuda()  # Move input tensor to GPU\n",
    "\n",
    "# Initialize the model\n",
    "num_classes = 4  # Example number of classes\n",
    "model = SimpleCNN(num_classes=num_classes).cuda()  # Move model to GPU\n",
    "\n",
    "# Test forward pass\n",
    "output = model(dummy_input)  # Forward pass on GPU\n",
    "print(f\"Output shape: {output.shape}\")  # Should be [512, num_classes]'''\n",
    "\n",
    "# GPU is 100% being utilized, unlike batch size of 32 and only 30% gpu utilization."
   ]
  },
  {
   "cell_type": "markdown",
   "metadata": {},
   "source": [
    "# Train Model Trial Run"
   ]
  },
  {
   "cell_type": "code",
   "execution_count": 27,
   "metadata": {},
   "outputs": [
    {
     "data": {
      "text/plain": [
       "'# Dataset1_4_na, batch size = 32, 5 folds, 6719 images, 256x256 images\\n# Take s 16 min, maybe I can try to improve the model speed by increasing the batch size to 512\\n# model overrides the previous fold model, so need to make a new code that will save each fold model\\n\\n\\nnum_classes = len(dataset1_4_na.classes)  # Number of classes in the dataset\\n\\n# Initialize the model, loss function, and optimizer\\nmodel = SimpleCNN(num_classes=num_classes)\\ncriterion = nn.CrossEntropyLoss()\\noptimizer = optim.Adam(model.parameters(), lr=0.001)\\n\\nfor fold_idx, (train_loader, val_loader) in enumerate(all_dataloaders1_4_na):\\n    print(f\"Training Fold {fold_idx + 1}/{len(all_dataloaders1_4_na)}\")\\n    model = train_model(model, criterion, optimizer, train_loader, val_loader, num_epochs=10, device=device)'"
      ]
     },
     "execution_count": 27,
     "metadata": {},
     "output_type": "execute_result"
    }
   ],
   "source": [
    "# Trial Run:\n",
    "'''# Dataset1_4_na, batch size = 32, 5 folds, 6719 images, 256x256 images\n",
    "# Take s 16 min, maybe I can try to improve the model speed by increasing the batch size to 512\n",
    "# model overrides the previous fold model, so need to make a new code that will save each fold model\n",
    "\n",
    "\n",
    "num_classes = len(dataset1_4_na.classes)  # Number of classes in the dataset\n",
    "\n",
    "# Initialize the model, loss function, and optimizer\n",
    "model = SimpleCNN(num_classes=num_classes)\n",
    "criterion = nn.CrossEntropyLoss()\n",
    "optimizer = optim.Adam(model.parameters(), lr=0.001)\n",
    "\n",
    "for fold_idx, (train_loader, val_loader) in enumerate(all_dataloaders1_4_na):\n",
    "    print(f\"Training Fold {fold_idx + 1}/{len(all_dataloaders1_4_na)}\")\n",
    "    model = train_model(model, criterion, optimizer, train_loader, val_loader, num_epochs=10, device=device)'''\n"
   ]
  },
  {
   "cell_type": "code",
   "execution_count": 28,
   "metadata": {},
   "outputs": [
    {
     "data": {
      "text/plain": [
       "'\\nOutput data is too long so will need to condense the most important info\\nWill focus on the validation loss. Accuracy is binary while loss is continuous and can be used to compare models.\\n\\nTraining Fold 1/5\\nEpoch 10/10, Training Loss: 0.0932158915758399\\nValidation Loss: 0.2437438233312042\\n\\nTraining Fold 2/5\\nEpoch 10/10, Training Loss: 0.06071736137632148\\nValidation Loss: 0.08299510001337954\\n\\nTraining Fold 3/5\\nEpoch 10/10, Training Loss: 0.011021780468711637\\nValidation Loss: 0.03882013740873108\\n\\nTraining Fold 4/5\\nEpoch 10/10, Training Loss: 0.017093674764315177\\nValidation Loss: 0.023375018104118118\\n\\nTraining Fold 5/5\\nEpoch 10/10, Training Loss: 0.013596458385834575\\nValidation Loss: 0.03204138073921231\\n\\n'"
      ]
     },
     "execution_count": 28,
     "metadata": {},
     "output_type": "execute_result"
    }
   ],
   "source": [
    "'''\n",
    "Output data is too long so will need to condense the most important info\n",
    "Will focus on the validation loss. Accuracy is binary while loss is continuous and can be used to compare models.\n",
    "\n",
    "Training Fold 1/5\n",
    "Epoch 10/10, Training Loss: 0.0932158915758399\n",
    "Validation Loss: 0.2437438233312042\n",
    "\n",
    "Training Fold 2/5\n",
    "Epoch 10/10, Training Loss: 0.06071736137632148\n",
    "Validation Loss: 0.08299510001337954\n",
    "\n",
    "Training Fold 3/5\n",
    "Epoch 10/10, Training Loss: 0.011021780468711637\n",
    "Validation Loss: 0.03882013740873108\n",
    "\n",
    "Training Fold 4/5\n",
    "Epoch 10/10, Training Loss: 0.017093674764315177\n",
    "Validation Loss: 0.023375018104118118\n",
    "\n",
    "Training Fold 5/5\n",
    "Epoch 10/10, Training Loss: 0.013596458385834575\n",
    "Validation Loss: 0.03204138073921231\n",
    "\n",
    "'''"
   ]
  },
  {
   "cell_type": "code",
   "execution_count": 29,
   "metadata": {},
   "outputs": [
    {
     "name": "stdout",
     "output_type": "stream",
     "text": [
      "avg validation loss: 0.08728411578025165\n"
     ]
    }
   ],
   "source": [
    "print(f\"avg validation loss: {(0.2437438233312042 + 0.08299510001337954 + 0.03882013740873108 + 0.03882013740873108 + 0.03204138073921231)/5}\")"
   ]
  },
  {
   "cell_type": "markdown",
   "metadata": {},
   "source": [
    "# Train Model"
   ]
  },
  {
   "cell_type": "markdown",
   "metadata": {},
   "source": [
    "## Define Function"
   ]
  },
  {
   "cell_type": "code",
   "execution_count": 64,
   "metadata": {},
   "outputs": [],
   "source": [
    "def Train_Model_Cross_Validation(model, criterion, optimizer, lr, num_epochs, num_output_classes, device, model_name, dataloader ):\n",
    "    # Adjust training loop\n",
    "    for fold_idx, (train_loader, val_loader) in enumerate(dataloader):\n",
    "        print(f\"Training Fold {fold_idx + 1}/{len(dataloader)}\")\n",
    "\n",
    "        # Clear GPU memory before starting a new fold\n",
    "        torch.cuda.empty_cache()\n",
    "\n",
    "        # Reinitialize model and optimizer for each fold\n",
    "        model = FlexibleCNN(num_classes=num_output_classes).to(device)\n",
    "        optimizer = optim.Adam(model.parameters(), lr=lr)\n",
    "\n",
    "        # Train the model for this fold\n",
    "        model = train_model(model, criterion, optimizer, train_loader, val_loader, num_epochs=num_epochs, device=device)\n",
    "        \n",
    "        # Save the model for this fold with a unique filename\n",
    "        torch.save(model.state_dict(), f\"{model_name}_model_fold_{fold_idx + 1}.pth\")\n",
    "        print(f\"{model_name} Model for fold {fold_idx + 1} saved as 'model_fold_{fold_idx + 1}.pth'\")"
   ]
  },
  {
   "cell_type": "markdown",
   "metadata": {},
   "source": [
    "## Hyperparameters"
   ]
  },
  {
   "cell_type": "code",
   "execution_count": null,
   "metadata": {},
   "outputs": [],
   "source": [
    "lr = 0.001\n",
    "num_epochs = 10\n",
    "\n",
    "criterion = nn.CrossEntropyLoss()\n",
    "optimizer = optim.Adam(model.parameters(), lr=lr)"
   ]
  },
  {
   "cell_type": "markdown",
   "metadata": {},
   "source": [
    "## Perform K-Fold Cross Validation Training to see which model is best"
   ]
  },
  {
   "cell_type": "code",
   "execution_count": null,
   "metadata": {},
   "outputs": [],
   "source": [
    "# dataset 1 - 4 classes non augmented\n",
    "\n",
    "num_output_classes = len(dataset1_4_na_512.classes)\n",
    "model = SimpleCNN_512(num_classes=num_output_classes).to(device)\n",
    "\n",
    "Train_Model_Cross_Validation(\n",
    "    model,\n",
    "    criterion,\n",
    "    optimizer, \n",
    "    lr, \n",
    "    num_epochs, \n",
    "    num_output_classes, \n",
    "    device, \n",
    "    'Data1_4_na_512', \n",
    "    all_dataloaders1_4_na)"
   ]
  },
  {
   "cell_type": "code",
   "execution_count": null,
   "metadata": {},
   "outputs": [],
   "source": [
    "# dataset 2 - 2 classes non augmented\n",
    "\n",
    "num_output_classes = len(dataset2_2_na.classes)\n",
    "model = SimpleCNN_512(num_classes=num_output_classes).to(device)\n",
    "\n",
    "Train_Model_Cross_Validation(\n",
    "    model,\n",
    "    criterion,\n",
    "    optimizer, \n",
    "    lr, \n",
    "    num_epochs, \n",
    "    num_output_classes, \n",
    "    device, \n",
    "    'Data2_2_na_512', \n",
    "    all_dataloaders2_2_na_512)"
   ]
  },
  {
   "cell_type": "markdown",
   "metadata": {},
   "source": [
    "## Which Model was the best\n",
    "\n",
    "I will take all of the training loss, validation loss, and accuracy of the 2 models and aggregate them together using average."
   ]
  },
  {
   "cell_type": "code",
   "execution_count": 2,
   "metadata": {},
   "outputs": [
    {
     "name": "stdout",
     "output_type": "stream",
     "text": [
      "Model 1 Training Loss 0.09300691950401012\n",
      "Model 1 Validation Loss 0.2520017057657234\n",
      "Model 1 Accuracy 0.922\n",
      "\n",
      "Model 2 Training Loss 0.09300691950401012\n",
      "Model 2 Validation Loss 0.2520017057657234\n",
      "Model 2 Accuracy 0.922\n"
     ]
    }
   ],
   "source": [
    "import statistics\n",
    "\n",
    "avg_m1_training_loss = statistics.mean(\n",
    "    [0.0888093750524733, \n",
    "    0.0877730752164054, \n",
    "    0.116053645676445, \n",
    "    0.0748341116899003, \n",
    "    0.0975643898848266])\n",
    "\n",
    "avg_m1_val_loss = statistics.mean(\n",
    "    [0.23132011968465, \n",
    "    0.267330848390147, \n",
    "    0.200706772861026, \n",
    "    0.352789946255229, \n",
    "    0.207860841637565])\n",
    "\n",
    "avg_m1_accuracy = statistics.mean(\n",
    "    [0.93, \n",
    "    0.91, \n",
    "    0.93, \n",
    "    0.92, \n",
    "    0.92])\n",
    "\n",
    "print(f'Model 1 Training Loss {avg_m1_training_loss}')\n",
    "print(f'Model 1 Validation Loss {avg_m1_val_loss}')\n",
    "print(f'Model 1 Accuracy {avg_m1_accuracy}')\n",
    "print()\n",
    "\n",
    "avg_m2_training_loss = statistics.mean(\n",
    "    [0.0794861339076998, \n",
    "    0.0908131362160756, \n",
    "    0.0579512962694501, \n",
    "    0.062122426949264, \n",
    "    0.0730560059060475])\n",
    "\n",
    "avg_m2_val_loss = statistics.mean(\n",
    "    [0.119994813044156, \n",
    "    0.105766200859631, \n",
    "    0.142624080713306, \n",
    "    0.183626553575907, \n",
    "    0.126227928591626])\n",
    "\n",
    "avg_m2_accuracy = statistics.mean(\n",
    "    [0.93, \n",
    "    0.91, \n",
    "    0.93, \n",
    "    0.92, \n",
    "    0.92])\n",
    "\n",
    "print(f'Model 2 Training Loss {avg_m1_training_loss}')\n",
    "print(f'Model 2 Validation Loss {avg_m1_val_loss}')\n",
    "print(f'Model 2 Accuracy {avg_m1_accuracy}')"
   ]
  },
  {
   "cell_type": "markdown",
   "metadata": {},
   "source": [
    "## Discovery\n",
    "\n",
    "It appears model 2 avg validation loss is the lowest, and just by looking at all the data across the board is the lowest.\n",
    "\n",
    "Both models seems to have the training loss a bit lower than the validation loss across the board, This hints that slight overfitting happening. But in model 2, it seems this is not much of an issue.\n",
    "\n",
    "Model 2's accuracy seems to be the highest.\n",
    "\n",
    "It seems the overall best model method to going forth is model 2 with the idea of merging the data set together "
   ]
  },
  {
   "cell_type": "markdown",
   "metadata": {},
   "source": [
    "# Future Scope\n",
    "\n",
    "- I will need to figure out a better way to organize and manipulate data while not using so many duplicate folders. \n",
    "- Our would like to experiment with augmenting the data (rot and flip). Upon experimenting, with this method we can increase the amount of data sets from 6K to 87K. \n",
    "- Need to find a way to run more than 10K of augmented data as currently it overloads my VRAM and trains for a long time, either optimized the file size, buy better hardware, or rent better or multiple hardware on the cloud.\n",
    "- Experiment different types of CNN models structures than only the simple one. Chose small as dataset was small.\n",
    "- One method is to optimize the parallel computing to process more data faster."
   ]
  },
  {
   "cell_type": "code",
   "execution_count": null,
   "metadata": {},
   "outputs": [],
   "source": []
  }
 ],
 "metadata": {
  "kernelspec": {
   "display_name": "Python 3",
   "language": "python",
   "name": "python3"
  },
  "language_info": {
   "codemirror_mode": {
    "name": "ipython",
    "version": 3
   },
   "file_extension": ".py",
   "mimetype": "text/x-python",
   "name": "python",
   "nbconvert_exporter": "python",
   "pygments_lexer": "ipython3",
   "version": "3.10.11"
  }
 },
 "nbformat": 4,
 "nbformat_minor": 2
}
