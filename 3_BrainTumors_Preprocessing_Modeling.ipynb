{
 "cells": [
  {
   "cell_type": "markdown",
   "metadata": {},
   "source": [
    "# Predictive Brain Tumor Image AI Project - Preprocessing & Modeling\n",
    "\n",
    "To make an image-processing brain tumor predictive model to automate on scale."
   ]
  },
  {
   "cell_type": "markdown",
   "metadata": {},
   "source": [
    "# The Plan\n",
    "\n",
    "The overall goal is to make a prediction model that classifies if the model as brain tumor or not. \n",
    "\n",
    "#################################################################\n",
    "\n",
    "Brain MRI info\n",
    "- Glioma: A type of cancer arising from glial cells in the brain or spinal cord.\n",
    "- Meningioma: Usually a benign tumor from the meninges; rarely malignant.\n",
    "- Notumor: Means no tumor was found.\n",
    "- Pituitary: Refers to the gland; tumors (mostly benign) can form, rarely cancerous.\n",
    "\n",
    "#################################################################\n",
    "\n",
    "The Plan:\n",
    "- the end goal is to make a model where you input image data of Brain MRI and will classify either Cancer or No Cancer.\n",
    "- We will be experimenting with different data sets and different model methods.\n",
    "- one idea is 4 classes (glioma, meningioma, notumor, pituitary), and have the model try to classify the 4 classes which will will then be organized into 2 classification (cancer or not).\n",
    "    - The idea is that the model will place more effort in separating into 4 classification, which already has balanced data and thus be more accurate. And then we can add another layer to organized the results of 4 classifications into the 2 classifications of either cancer or no cancer.\n",
    "- Other idea is to have the Glioma class as cancer and the rest of the classes merged as not cancer. Then train the AI to classify between the 2 classes. But this will create a data imbalance issue that we will have to address.\n",
    "- And each of those 2 ideas will have 2 data sets each as one is either using the non-augmented data (~6K image data so small and use pytorches random augmentation) or the augmented data (~ 87K image data)\n",
    "\n",
    "#################################################################\n",
    "\n",
    "The 4 Datasets:\n",
    "|               | 4 classes balanced | 2 classes imbalanced|\n",
    "|---------------|--------------------|---------------------|\n",
    "| Non-Augmented | Dataset 1          | Dataset 2           |\n",
    "| Augmented     | Dataset 3          | Dataset 4           |\n",
    "\n",
    "#################################################################\n",
    "\n",
    "Cross validation:\n",
    "- will use k-fold and divide up each dataset into multiple folds to make it easier to cross validate\n",
    "\n",
    "#################################################################\n",
    "\n",
    "Folder Structure:\n",
    "\n",
    "We will most likely be using pytorch and it's dataloader, and that system likes to have subfolders which the data loader will use the subfolders name to apply labels to each of the images during training and testing.\n",
    "\n",
    "#################################################################"
   ]
  },
  {
   "cell_type": "markdown",
   "metadata": {},
   "source": [
    "# Initial Setup"
   ]
  },
  {
   "cell_type": "code",
   "execution_count": 1,
   "metadata": {},
   "outputs": [],
   "source": [
    "import os\n",
    "import pandas as pd\n",
    "import numpy as np\n",
    "import matplotlib.pyplot as plt\n",
    "\n",
    "from PIL import Image as PILImage \n",
    "# using from PIL import Image as PILImage to count takes too long now as will try to also validate each image. We are assuming all the images are validated and are in correct format from Data Wrangling and EDA steps.\n",
    "\n",
    "import torch\n",
    "from torchvision import datasets, transforms\n",
    "from torch.utils.data import DataLoader, Subset\n",
    "from sklearn.model_selection import KFold\n",
    "from torch.utils.data import WeightedRandomSampler, DataLoader\n",
    "from sklearn.utils import resample\n",
    "\n",
    "import torch.nn as nn\n",
    "import torch.nn.functional as F\n",
    "\n",
    "\n",
    "from collections import Counter"
   ]
  },
  {
   "cell_type": "code",
   "execution_count": 2,
   "metadata": {},
   "outputs": [],
   "source": [
    "# Caching the image data paths\n",
    "\n",
    "image_dataset1_4_na_path = \"./ImageData-Merge_Scaled_Cropped_Resize2\"\n",
    "image_dataset2_2_na_path = \"./ImageData-Merge_Scaled_Cropped_Resize3\"\n",
    "image_dataset3_4_a_path = \"./ImageData-Merge_Scaled_Cropped_Resize2_Augmented1\"\n",
    "image_dataset4_2_a_path = \"./ImageData-Merge_Scaled_Cropped_Resize2_Augmented2\""
   ]
  },
  {
   "cell_type": "markdown",
   "metadata": {},
   "source": [
    "# Data Imbalance"
   ]
  },
  {
   "cell_type": "markdown",
   "metadata": {},
   "source": [
    "## Image Distribution"
   ]
  },
  {
   "cell_type": "code",
   "execution_count": 3,
   "metadata": {},
   "outputs": [],
   "source": [
    "# Bar Graph Code\n",
    "def quick_plot_bar_graph(categories, values, figsize = (10, 6), title='Image Counts with Percentages', xlabel='Brain Tumor Types', ylabel='Count'):\n",
    "    \"\"\"\n",
    "    Plots a bar graph with counts and percentages displayed on top of the bars.\n",
    "\n",
    "    Parameters:\n",
    "    - categories: List of category names (x-axis).\n",
    "    - values: List of corresponding values (heights of the bars).\n",
    "    \"\"\"\n",
    "    # Calculate total for percentage calculation\n",
    "    total = sum(values)\n",
    "    \n",
    "    # Plot the bar graph\n",
    "    plt.figure(figsize=figsize)\n",
    "    bars = plt.bar(categories, values, color='skyblue')\n",
    "\n",
    "    # Add count and percentage on top of each bar\n",
    "    for bar, value in zip(bars, values):\n",
    "        height = bar.get_height()\n",
    "        percentage = (value / total) * 100\n",
    "        plt.text(bar.get_x() + bar.get_width() / 2, height, \n",
    "                 f'{value}\\n({percentage:.1f}%)', \n",
    "                 ha='center', va='bottom', fontsize=10)\n",
    "\n",
    "    # Add titles and labels\n",
    "    plt.title(title, fontsize=16)\n",
    "    plt.xlabel(xlabel, fontsize=12)\n",
    "    plt.ylabel(ylabel, fontsize=12)\n",
    "\n",
    "    # Show the plot\n",
    "    plt.show()"
   ]
  },
  {
   "cell_type": "code",
   "execution_count": 4,
   "metadata": {},
   "outputs": [
    {
     "name": "stdout",
     "output_type": "stream",
     "text": [
      "Glioma: 1619\n",
      "Meningioma: 1634\n",
      "NoTumor: 1726\n",
      "Pituitary: 1740\n"
     ]
    },
    {
     "data": {
      "image/png": "[encoded data removed]",
      "text/plain": [
       "<Figure size 500x1000 with 1 Axes>"
      ]
     },
     "metadata": {},
     "output_type": "display_data"
    }
   ],
   "source": [
    "# Dataset 1 - 4 classes non augmented\n",
    "\n",
    "# Load dataset\n",
    "dataset = datasets.ImageFolder(root=image_dataset1_4_na_path)\n",
    "\n",
    "# Get class distribution\n",
    "class_counts = Counter(dataset.targets)\n",
    "\n",
    "# Map indices to class names\n",
    "class_names = dataset.classes\n",
    "\n",
    "# Extract counts into variables\n",
    "glioma_count_4_na = class_counts[dataset.class_to_idx['glioma']]\n",
    "meningioma_count_4_na = class_counts[dataset.class_to_idx['meningioma']]\n",
    "notumor_count_4_na = class_counts[dataset.class_to_idx['notumor']]\n",
    "pituitary_count_4_na = class_counts[dataset.class_to_idx['pituitary']]\n",
    "\n",
    "# Print counts\n",
    "print(f\"Glioma: {glioma_count_4_na}\")\n",
    "print(f\"Meningioma: {meningioma_count_4_na}\")\n",
    "print(f\"NoTumor: {notumor_count_4_na}\")\n",
    "print(f\"Pituitary: {pituitary_count_4_na}\")\n",
    "\n",
    "quick_plot_bar_graph(['Glioma','Meningioma','notumor','Pituitary'], [glioma_count_4_na,meningioma_count_4_na,notumor_count_4_na,pituitary_count_4_na], figsize = (5, 10), title='Image Counts with Percentages', xlabel='Brain Tumor Types', ylabel='Count')\n",
    "\n",
    "# There is not much data imbalance so it's good to go with this data set. "
   ]
  },
  {
   "cell_type": "code",
   "execution_count": 5,
   "metadata": {},
   "outputs": [
    {
     "name": "stdout",
     "output_type": "stream",
     "text": [
      "Cancer: 1619\n",
      "NonCancer: 5100\n"
     ]
    },
    {
     "data": {
      "image/png": "[encoded data removed]",
      "text/plain": [
       "<Figure size 500x1000 with 1 Axes>"
      ]
     },
     "metadata": {},
     "output_type": "display_data"
    }
   ],
   "source": [
    "# Dataset 2 - 2 classes non augmented\n",
    "\n",
    "# Load dataset\n",
    "dataset = datasets.ImageFolder(root=image_dataset2_2_na_path)\n",
    "\n",
    "# Get class distribution\n",
    "class_counts = Counter(dataset.targets)\n",
    "\n",
    "# Map indices to class names\n",
    "class_names = dataset.classes\n",
    "\n",
    "# Extract counts into variables\n",
    "cancer_count_2_na = class_counts[dataset.class_to_idx['Cancer']]\n",
    "noncancer_count_2_na = class_counts[dataset.class_to_idx['NonCancer']]\n",
    "\n",
    "# Print counts\n",
    "print(f\"Cancer: {cancer_count_2_na}\")\n",
    "print(f\"NonCancer: {noncancer_count_2_na}\")\n",
    "\n",
    "\n",
    "quick_plot_bar_graph(['Cancer', 'Non-Cancer'], [cancer_count_2_na, noncancer_count_2_na], figsize = (5, 10), title='Image Counts with Percentages', xlabel='Brain Tumor Types', ylabel='Count')\n",
    "\n",
    "# there is a definite data imbalance with this\n"
   ]
  },
  {
   "cell_type": "code",
   "execution_count": 6,
   "metadata": {},
   "outputs": [
    {
     "name": "stdout",
     "output_type": "stream",
     "text": [
      "Glioma: 21047\n",
      "Meningioma: 21242\n",
      "NoTumor: 22438\n",
      "Pituitary: 22620\n"
     ]
    },
    {
     "data": {
      "image/png": "[encoded data removed]",
      "text/plain": [
       "<Figure size 500x1000 with 1 Axes>"
      ]
     },
     "metadata": {},
     "output_type": "display_data"
    }
   ],
   "source": [
    "# Dataset 3 - 4 classes augmented\n",
    "\n",
    "# Load dataset\n",
    "dataset = datasets.ImageFolder(root=image_dataset3_4_a_path)\n",
    "\n",
    "# Get class distribution\n",
    "class_counts = Counter(dataset.targets)\n",
    "\n",
    "# Map indices to class names\n",
    "class_names = dataset.classes\n",
    "\n",
    "# Extract counts into variables\n",
    "glioma_count_4_a = class_counts[dataset.class_to_idx['glioma']]\n",
    "meningioma_count_4_a = class_counts[dataset.class_to_idx['meningioma']]\n",
    "notumor_count_4_a = class_counts[dataset.class_to_idx['notumor']]\n",
    "pituitary_count_4_a = class_counts[dataset.class_to_idx['pituitary']]\n",
    "\n",
    "# Print counts\n",
    "print(f\"Glioma: {glioma_count_4_a}\")\n",
    "print(f\"Meningioma: {meningioma_count_4_a}\")\n",
    "print(f\"NoTumor: {notumor_count_4_a}\")\n",
    "print(f\"Pituitary: {pituitary_count_4_a}\")\n",
    "\n",
    "quick_plot_bar_graph(['Glioma','Meningioma','notumor','Pituitary'], [glioma_count_4_a,meningioma_count_4_a,notumor_count_4_a,pituitary_count_4_a], figsize = (5, 10), title='Image Counts with Percentages', xlabel='Brain Tumor Types', ylabel='Count')\n",
    "\n",
    "# There is not much data imbalance so it's good to go with this data set. "
   ]
  },
  {
   "cell_type": "code",
   "execution_count": 7,
   "metadata": {},
   "outputs": [
    {
     "name": "stdout",
     "output_type": "stream",
     "text": [
      "Cancer: 21047\n",
      "NonCancer: 66300\n"
     ]
    },
    {
     "data": {
      "image/png": "[encoded data removed]",
      "text/plain": [
       "<Figure size 500x1000 with 1 Axes>"
      ]
     },
     "metadata": {},
     "output_type": "display_data"
    }
   ],
   "source": [
    "# Dataset 4 - 2 classes augmented\n",
    "\n",
    "# Load dataset\n",
    "dataset = datasets.ImageFolder(root=image_dataset4_2_a_path)\n",
    "\n",
    "# Get class distribution\n",
    "class_counts = Counter(dataset.targets)\n",
    "\n",
    "# Map indices to class names\n",
    "class_names = dataset.classes\n",
    "\n",
    "# Extract counts into variables\n",
    "cancer_count_2_a = class_counts[dataset.class_to_idx['Cancer']]\n",
    "noncancer_count_2_a = class_counts[dataset.class_to_idx['NonCancer']]\n",
    "\n",
    "# Print counts\n",
    "print(f\"Cancer: {cancer_count_2_a}\")\n",
    "print(f\"NonCancer: {noncancer_count_2_a}\")\n",
    "\n",
    "\n",
    "quick_plot_bar_graph(['Cancer', 'Non-Cancer'], [cancer_count_2_a, noncancer_count_2_a], figsize = (5, 10), title='Image Counts with Percentages', xlabel='Brain Tumor Types', ylabel='Count')\n",
    "\n",
    "# there is a definite data imbalance with this\n"
   ]
  },
  {
   "cell_type": "code",
   "execution_count": 8,
   "metadata": {},
   "outputs": [
    {
     "name": "stdout",
     "output_type": "stream",
     "text": [
      "image imbalance ratio: 3.1500926497838173\n"
     ]
    }
   ],
   "source": [
    "# Checking the data imbalance ratio\n",
    "\n",
    "image_imbalance_ratio = noncancer_count_2_a / cancer_count_2_a\n",
    "\n",
    "print(f\"image imbalance ratio: {image_imbalance_ratio}\")\n",
    "\n",
    "# The dataset is approximately 3:1, meaning the cancer class is underrepresented."
   ]
  },
  {
   "cell_type": "markdown",
   "metadata": {},
   "source": [
    "# How many splits for Cross Validation"
   ]
  },
  {
   "cell_type": "code",
   "execution_count": 9,
   "metadata": {},
   "outputs": [
    {
     "name": "stdout",
     "output_type": "stream",
     "text": [
      "Total number of images in augmented sample: 87347\n",
      "Total number of images in non augmented sample: 6719\n"
     ]
    }
   ],
   "source": [
    "total_augmented_images = noncancer_count_2_a + cancer_count_2_a\n",
    "total_nonaugmented_images = noncancer_count_2_na + cancer_count_2_na\n",
    "\n",
    "print(f'Total number of images in augmented sample: {total_augmented_images}')\n",
    "print(f'Total number of images in non augmented sample: {total_nonaugmented_images}')"
   ]
  },
  {
   "cell_type": "code",
   "execution_count": 10,
   "metadata": {},
   "outputs": [],
   "source": [
    "def amount_each_fold(folds = 5):\n",
    "    print (f'number of folds: {folds}')\n",
    "    augmented_images_each_folds = total_augmented_images / folds\n",
    "    nonaugmented_images_each_folds = total_nonaugmented_images / folds\n",
    "\n",
    "    print(f'augmented sample each fold: {augmented_images_each_folds}')\n",
    "    print(f'non augmented sample each fold: {nonaugmented_images_each_folds}')\n",
    "    print()"
   ]
  },
  {
   "cell_type": "code",
   "execution_count": 11,
   "metadata": {},
   "outputs": [
    {
     "name": "stdout",
     "output_type": "stream",
     "text": [
      "number of folds: 5\n",
      "augmented sample each fold: 17469.4\n",
      "non augmented sample each fold: 1343.8\n",
      "\n",
      "number of folds: 10\n",
      "augmented sample each fold: 8734.7\n",
      "non augmented sample each fold: 671.9\n",
      "\n",
      "number of folds: 3\n",
      "augmented sample each fold: 29115.666666666668\n",
      "non augmented sample each fold: 2239.6666666666665\n",
      "\n"
     ]
    }
   ],
   "source": [
    "amount_each_fold(5)\n",
    "\n",
    "amount_each_fold(10)\n",
    "\n",
    "amount_each_fold(3)\n"
   ]
  },
  {
   "cell_type": "markdown",
   "metadata": {},
   "source": [
    "## Discovery\n",
    "\n",
    "Looks like a good number of folds is 5 for both augmented and non augmented data"
   ]
  },
  {
   "cell_type": "markdown",
   "metadata": {},
   "source": [
    "# Creating Dataloader & Folds"
   ]
  },
  {
   "cell_type": "code",
   "execution_count": 33,
   "metadata": {},
   "outputs": [],
   "source": [
    "def get_transforms(augment=True, resize=(128, 128)):\n",
    "    \"\"\"\n",
    "    Returns the transform pipeline for the dataset.\n",
    "\n",
    "    Args:\n",
    "        augment (bool): Whether to include augmentation transforms.\n",
    "        resize (tuple): Target image size.\n",
    "\n",
    "    Returns:\n",
    "        transforms.Compose: Transformation pipeline.\n",
    "    \"\"\"\n",
    "    if augment:\n",
    "        return transforms.Compose([\n",
    "            transforms.Grayscale(num_output_channels=1),  # Ensure images are single-channel as all MRI are grayscaled\n",
    "            transforms.RandomHorizontalFlip(),\n",
    "            transforms.RandomRotation(10),\n",
    "            transforms.Resize(resize),\n",
    "            transforms.ToTensor(),\n",
    "        ])\n",
    "    else:\n",
    "        return transforms.Compose([\n",
    "            transforms.Grayscale(num_output_channels=1),  # Ensure images are single-channel as all MRI are grayscaled\n",
    "            transforms.Resize(resize),\n",
    "            transforms.ToTensor(),\n",
    "        ])\n",
    "    \n",
    "\n",
    "def get_dataset(folder_path, transform):\n",
    "    \"\"\"\n",
    "    Loads the dataset using torchvision.datasets.ImageFolder.\n",
    "\n",
    "    Args:\n",
    "        folder_path (str): Path to the dataset folder.\n",
    "        transform (transforms.Compose): Transformations to apply.\n",
    "\n",
    "    Returns:\n",
    "        ImageFolder: The dataset object.\n",
    "    \"\"\"\n",
    "    return datasets.ImageFolder(root=folder_path, transform=transform)\n",
    "\n",
    "\n",
    "def calculate_class_weights(dataset):\n",
    "    \"\"\"\n",
    "    Calculates class weights for handling class imbalance.\n",
    "\n",
    "    Args:\n",
    "        dataset (ImageFolder): The dataset object.\n",
    "\n",
    "    Returns:\n",
    "        torch.Tensor: Class weights.\n",
    "    \"\"\"\n",
    "    class_counts = [0] * len(dataset.classes)\n",
    "    for _, label in dataset:\n",
    "        class_counts[label] += 1\n",
    "\n",
    "    class_weights = 1.0 / torch.tensor(class_counts, dtype=torch.float)\n",
    "    return class_weights\n",
    "\n",
    "\n",
    "def create_dataloader(dataset, class_weights, batch_size=32):\n",
    "    \"\"\"\n",
    "    Creates a DataLoader with WeightedRandomSampler to handle class imbalance.\n",
    "\n",
    "    Args:\n",
    "        dataset (ImageFolder): The dataset object.\n",
    "        class_weights (torch.Tensor): Class weights for imbalance handling.\n",
    "        batch_size (int): Batch size for the DataLoader.\n",
    "\n",
    "    Returns:\n",
    "        DataLoader: A PyTorch DataLoader object.\n",
    "    \"\"\"\n",
    "    sample_weights = [class_weights[label] for _, label in dataset]\n",
    "    sampler = WeightedRandomSampler(weights=sample_weights, num_samples=len(sample_weights), replacement=True)\n",
    "    dataloader = DataLoader(dataset, batch_size=batch_size, sampler=sampler)\n",
    "    return dataloader\n",
    "\n",
    "def split_dataset(dataset, n_splits=5):\n",
    "    \"\"\"\n",
    "    Splits the dataset into K folds for cross-validation.\n",
    "\n",
    "    Args:\n",
    "        dataset (ImageFolder): The dataset object.\n",
    "        n_splits (int): Number of folds for cross-validation.\n",
    "\n",
    "    Returns:\n",
    "        list: A list of Subset objects, one for each fold.\n",
    "    \"\"\"\n",
    "    dataset_size = len(dataset)\n",
    "    fold_size = dataset_size // n_splits\n",
    "    indices = torch.randperm(dataset_size).tolist()\n",
    "\n",
    "    folds = [\n",
    "        Subset(dataset, indices[i * fold_size:(i + 1) * fold_size])\n",
    "        for i in range(n_splits)\n",
    "    ]\n",
    "\n",
    "    # Handle remainder if dataset size is not perfectly divisible\n",
    "    remainder = dataset_size % n_splits\n",
    "    if remainder > 0:\n",
    "        for i in range(remainder):\n",
    "            folds[i] = Subset(dataset, indices[i * fold_size:(i + 1) * fold_size + 1])\n",
    "\n",
    "    return folds\n",
    "\n",
    "\n",
    "def get_dataset_folds(folder_path, augment_data = True, resize=(128, 128), num_splits = 5):\n",
    "    transform = get_transforms(augment=augment_data,resize=resize) # augment as the data is not augmented\n",
    "\n",
    "    # Load the dataset\n",
    "    dataset = get_dataset(folder_path, transform)\n",
    "\n",
    "    # Calculate class weights\n",
    "    class_weights = calculate_class_weights(dataset)\n",
    "\n",
    "    # Split the dataset into folds\n",
    "    folds = split_dataset(dataset, n_splits= num_splits)\n",
    "\n",
    "    return dataset, class_weights, folds \n",
    "\n",
    "def get_all_fold_dataloaders(class_weights, folds, batch_size=32, shuffle=True):\n",
    "    \"\"\"\n",
    "    Generates all possible training and validation DataLoader combinations for cross-validation.\n",
    "\n",
    "    Args:\n",
    "        class_weights (torch.Tensor): Class weights for WeightedRandomSampler.\n",
    "        folds (list): List of dataset subsets, one for each fold.\n",
    "        batch_size (int): Batch size for DataLoaders.\n",
    "        shuffle (bool): Whether to shuffle validation DataLoader.\n",
    "\n",
    "    Returns:\n",
    "        list: A list of tuples, where each tuple contains (train_loader, val_loader).\n",
    "    \"\"\"\n",
    "    dataloaders = []\n",
    "\n",
    "    for i in range(len(folds)):\n",
    "        # Use the ith fold for validation\n",
    "        validation_fold = folds[i]\n",
    "        # Use the remaining folds for training\n",
    "        training_folds = [folds[j] for j in range(len(folds)) if j != i]\n",
    "\n",
    "        # Combine training folds into a single dataset\n",
    "        training_dataset = torch.utils.data.ConcatDataset(training_folds)\n",
    "\n",
    "        # Create DataLoaders\n",
    "        train_loader = create_dataloader(training_dataset, class_weights, batch_size=batch_size)\n",
    "        val_loader = DataLoader(validation_fold, batch_size=batch_size, shuffle=shuffle)\n",
    "\n",
    "        dataloaders.append((train_loader, val_loader))\n",
    "\n",
    "\n",
    "    '''\n",
    "    How to use this function: \n",
    "\n",
    "    # Get all dataloaders for cross-validation (e.g., for the first dataset)\n",
    "    all_dataloaders1_4_na = get_all_fold_dataloaders(class_weights1_4_na, folds1_4_na, batch_size=batch_size, shuffle=shuffle)\n",
    "\n",
    "    # Iterate through all combinations\n",
    "    for fold_idx, (train_loader, val_loader) in enumerate(all_dataloaders1_4_na):\n",
    "        print(f\"Fold {fold_idx + 1}:\")\n",
    "        print(f\"Training DataLoader: {len(train_loader)} batches\")\n",
    "        print(f\"Validation DataLoader: {len(val_loader)} batches\")\n",
    "    '''\n",
    "    \n",
    "    return dataloaders\n"
   ]
  },
  {
   "cell_type": "code",
   "execution_count": 32,
   "metadata": {},
   "outputs": [],
   "source": [
    "# apply to all the datasets\n",
    "resize = (256, 256)\n",
    "num_splits = 5\n",
    "\n",
    "batch_size= 32\n",
    "shuffle = True"
   ]
  },
  {
   "cell_type": "code",
   "execution_count": 34,
   "metadata": {},
   "outputs": [],
   "source": [
    "# Dataloader 1 - 4 classes non augmented\n",
    "\n",
    "dataset1_4_na, class_weights1_4_na, folds1_4_na = get_dataset_folds(image_dataset1_4_na_path, augment_data = True, resize=resize, num_splits = num_splits) \n",
    "# augment as the data is not augmented\n",
    "\n",
    "all_dataloaders1_4_na = get_all_fold_dataloaders(class_weights1_4_na, folds1_4_na, batch_size=batch_size, shuffle=shuffle)"
   ]
  },
  {
   "cell_type": "code",
   "execution_count": 35,
   "metadata": {},
   "outputs": [],
   "source": [
    "# Dataloader 2 - 2 classes non augmented\n",
    "\n",
    "dataset2_2_na, class_weights2_2_na, folds2_2_na = get_dataset_folds(image_dataset2_2_na_path, augment_data = True, resize=resize, num_splits = num_splits) \n",
    "# augment as the data is not augmented\n",
    "\n",
    "all_dataloaders2_2_na = get_all_fold_dataloaders(class_weights2_2_na, folds2_2_na, batch_size=batch_size, shuffle=shuffle)"
   ]
  },
  {
   "cell_type": "code",
   "execution_count": 36,
   "metadata": {},
   "outputs": [],
   "source": [
    "# Dataloader 3 - 4 classes augmented\n",
    "\n",
    "dataset3_4_a, class_weights3_4_a, folds3_4_a = get_dataset_folds(image_dataset3_4_a_path, augment_data = False, resize=resize, num_splits = num_splits) \n",
    "# No augment as the data is already \n",
    "\n",
    "all_dataloaders3_4_a = get_all_fold_dataloaders(class_weights3_4_a, folds3_4_a, batch_size=batch_size, shuffle=shuffle)"
   ]
  },
  {
   "cell_type": "code",
   "execution_count": 37,
   "metadata": {},
   "outputs": [],
   "source": [
    "# Dataloader 4 - 2 classes augmented\n",
    "\n",
    "dataset4_2_a, class_weights4_2_a, folds4_2_a = get_dataset_folds(image_dataset4_2_a_path, augment_data = False, resize=resize, num_splits = num_splits) \n",
    "# No augment as the data is already \n",
    "\n",
    "all_dataloaders4_2_a = get_all_fold_dataloaders(class_weights4_2_a, folds4_2_a, batch_size=batch_size, shuffle=shuffle)"
   ]
  },
  {
   "cell_type": "markdown",
   "metadata": {},
   "source": [
    "# Defining the CNN Model"
   ]
  },
  {
   "cell_type": "code",
   "execution_count": null,
   "metadata": {},
   "outputs": [],
   "source": []
  },
  {
   "cell_type": "code",
   "execution_count": 38,
   "metadata": {},
   "outputs": [],
   "source": [
    "\n",
    "class SimpleCNN(nn.Module):\n",
    "    def __init__(self, num_classes):\n",
    "        super(SimpleCNN, self).__init__()\n",
    "        self.conv1 = nn.Conv2d(1, 32, kernel_size=3, stride=1, padding=1)  # For grayscale input\n",
    "        self.conv2 = nn.Conv2d(32, 64, kernel_size=3, stride=1, padding=1)\n",
    "        self.pool = nn.MaxPool2d(kernel_size=2, stride=2)\n",
    "        self.fc1 = nn.Linear(64 * 64 * 64, 128)  # Adjust dimensions based on your input size\n",
    "        self.fc2 = nn.Linear(128, num_classes) # num_classes = number of output classes\n",
    "\n",
    "    def forward(self, x):\n",
    "        x = F.relu(self.conv1(x))\n",
    "        x = self.pool(F.relu(self.conv2(x)))\n",
    "        x = x.view(x.size(0), -1)  # Flatten\n",
    "        x = F.relu(self.fc1(x))\n",
    "        x = self.fc2(x)\n",
    "        return x\n",
    "\n",
    "# The `forward` method defines how the model processes input data and generates output.\n",
    "# You do not call the `forward` method directly; instead, you call the model, which internally calls `forward`."
   ]
  },
  {
   "cell_type": "markdown",
   "metadata": {},
   "source": [
    "# Set Up Training and Validation Loop"
   ]
  },
  {
   "cell_type": "code",
   "execution_count": 39,
   "metadata": {},
   "outputs": [],
   "source": [
    "import torch.optim as optim\n",
    "from sklearn.metrics import classification_report, confusion_matrix\n",
    "\n",
    "def train_model(model, criterion, optimizer, train_loader, val_loader, num_epochs=10, device='cuda'):\n",
    "    \"\"\"\n",
    "    Train and validate the CNN model.\n",
    "\n",
    "    Args:\n",
    "        model (nn.Module): The CNN model.\n",
    "        criterion (Loss): Loss function.\n",
    "        optimizer (Optimizer): Optimizer.\n",
    "        train_loader (DataLoader): Training DataLoader.\n",
    "        val_loader (DataLoader): Validation DataLoader.\n",
    "        num_epochs (int): Number of training epochs.\n",
    "        device (str): Device to run the model on ('cuda' or 'cpu').\n",
    "\n",
    "    Returns:\n",
    "        nn.Module: Trained model.\n",
    "    \"\"\"\n",
    "    model.to(device)\n",
    "\n",
    "    for epoch in range(num_epochs):\n",
    "        # Training phase\n",
    "        model.train()\n",
    "        running_loss = 0.0\n",
    "        for inputs, labels in train_loader:\n",
    "            inputs, labels = inputs.to(device), labels.to(device)\n",
    "\n",
    "            # Zero the parameter gradients\n",
    "            optimizer.zero_grad()\n",
    "\n",
    "            # Forward pass\n",
    "            outputs = model(inputs)\n",
    "            loss = criterion(outputs, labels)\n",
    "\n",
    "            # Backward pass and optimization\n",
    "            loss.backward()\n",
    "            optimizer.step()\n",
    "\n",
    "            running_loss += loss.item()\n",
    "\n",
    "        print(f\"Epoch {epoch + 1}/{num_epochs}, Training Loss: {running_loss / len(train_loader)}\")\n",
    "\n",
    "        # Validation phase\n",
    "        model.eval()\n",
    "        val_loss = 0.0\n",
    "        y_true, y_pred = [], []\n",
    "        with torch.no_grad():\n",
    "            for inputs, labels in val_loader:\n",
    "                inputs, labels = inputs.to(device), labels.to(device)\n",
    "\n",
    "                outputs = model(inputs)\n",
    "                loss = criterion(outputs, labels)\n",
    "                val_loss += loss.item()\n",
    "\n",
    "                _, preds = torch.max(outputs, 1)\n",
    "                y_true.extend(labels.cpu().numpy())\n",
    "                y_pred.extend(preds.cpu().numpy())\n",
    "\n",
    "        print(f\"Validation Loss: {val_loss / len(val_loader)}\")\n",
    "        print(classification_report(y_true, y_pred))\n",
    "\n",
    "    return model\n"
   ]
  },
  {
   "cell_type": "markdown",
   "metadata": {},
   "source": [
    "# Setting GPU or CPU"
   ]
  },
  {
   "cell_type": "code",
   "execution_count": 41,
   "metadata": {},
   "outputs": [
    {
     "name": "stdout",
     "output_type": "stream",
     "text": [
      "cuda IS available\n"
     ]
    }
   ],
   "source": [
    "# check if your GPU supports CUDA\n",
    "\n",
    "if torch.cuda.is_available():\n",
    "    print('cuda IS available')\n",
    "else:\n",
    "    print('cuda IS NOT available')\n"
   ]
  },
  {
   "cell_type": "code",
   "execution_count": 42,
   "metadata": {},
   "outputs": [],
   "source": [
    "# GPU is available, so we will use it for training the model.\n",
    "\n",
    "device = 'cuda'"
   ]
  },
  {
   "cell_type": "markdown",
   "metadata": {},
   "source": [
    "# Perform K-Fold Cross Validation"
   ]
  },
  {
   "cell_type": "code",
   "execution_count": 44,
   "metadata": {},
   "outputs": [
    {
     "name": "stdout",
     "output_type": "stream",
     "text": [
      "Training Fold 1/5\n"
     ]
    },
    {
     "ename": "RuntimeError",
     "evalue": "mat1 and mat2 shapes cannot be multiplied (32x1048576 and 262144x128)",
     "output_type": "error",
     "traceback": [
      "\u001b[1;31m---------------------------------------------------------------------------\u001b[0m",
      "\u001b[1;31mRuntimeError\u001b[0m                              Traceback (most recent call last)",
      "Cell \u001b[1;32mIn[44], line 14\u001b[0m\n\u001b[0;32m     12\u001b[0m \u001b[38;5;28;01mfor\u001b[39;00m fold_idx, (train_loader, val_loader) \u001b[38;5;129;01min\u001b[39;00m \u001b[38;5;28menumerate\u001b[39m(all_dataloaders1_4_na):\n\u001b[0;32m     13\u001b[0m     \u001b[38;5;28mprint\u001b[39m(\u001b[38;5;124mf\u001b[39m\u001b[38;5;124m\"\u001b[39m\u001b[38;5;124mTraining Fold \u001b[39m\u001b[38;5;132;01m{\u001b[39;00mfold_idx\u001b[38;5;250m \u001b[39m\u001b[38;5;241m+\u001b[39m\u001b[38;5;250m \u001b[39m\u001b[38;5;241m1\u001b[39m\u001b[38;5;132;01m}\u001b[39;00m\u001b[38;5;124m/\u001b[39m\u001b[38;5;132;01m{\u001b[39;00m\u001b[38;5;28mlen\u001b[39m(all_dataloaders1_4_na)\u001b[38;5;132;01m}\u001b[39;00m\u001b[38;5;124m\"\u001b[39m)\n\u001b[1;32m---> 14\u001b[0m     model \u001b[38;5;241m=\u001b[39m \u001b[43mtrain_model\u001b[49m\u001b[43m(\u001b[49m\u001b[43mmodel\u001b[49m\u001b[43m,\u001b[49m\u001b[43m \u001b[49m\u001b[43mcriterion\u001b[49m\u001b[43m,\u001b[49m\u001b[43m \u001b[49m\u001b[43moptimizer\u001b[49m\u001b[43m,\u001b[49m\u001b[43m \u001b[49m\u001b[43mtrain_loader\u001b[49m\u001b[43m,\u001b[49m\u001b[43m \u001b[49m\u001b[43mval_loader\u001b[49m\u001b[43m,\u001b[49m\u001b[43m \u001b[49m\u001b[43mnum_epochs\u001b[49m\u001b[38;5;241;43m=\u001b[39;49m\u001b[38;5;241;43m10\u001b[39;49m\u001b[43m,\u001b[49m\u001b[43m \u001b[49m\u001b[43mdevice\u001b[49m\u001b[38;5;241;43m=\u001b[39;49m\u001b[43mdevice\u001b[49m\u001b[43m)\u001b[49m\n",
      "Cell \u001b[1;32mIn[39], line 33\u001b[0m, in \u001b[0;36mtrain_model\u001b[1;34m(model, criterion, optimizer, train_loader, val_loader, num_epochs, device)\u001b[0m\n\u001b[0;32m     30\u001b[0m optimizer\u001b[38;5;241m.\u001b[39mzero_grad()\n\u001b[0;32m     32\u001b[0m \u001b[38;5;66;03m# Forward pass\u001b[39;00m\n\u001b[1;32m---> 33\u001b[0m outputs \u001b[38;5;241m=\u001b[39m \u001b[43mmodel\u001b[49m\u001b[43m(\u001b[49m\u001b[43minputs\u001b[49m\u001b[43m)\u001b[49m\n\u001b[0;32m     34\u001b[0m loss \u001b[38;5;241m=\u001b[39m criterion(outputs, labels)\n\u001b[0;32m     36\u001b[0m \u001b[38;5;66;03m# Backward pass and optimization\u001b[39;00m\n",
      "File \u001b[1;32mc:\\Users\\aero9\\AppData\\Local\\Programs\\Python\\Python310\\lib\\site-packages\\torch\\nn\\modules\\module.py:1501\u001b[0m, in \u001b[0;36mModule._call_impl\u001b[1;34m(self, *args, **kwargs)\u001b[0m\n\u001b[0;32m   1496\u001b[0m \u001b[38;5;66;03m# If we don't have any hooks, we want to skip the rest of the logic in\u001b[39;00m\n\u001b[0;32m   1497\u001b[0m \u001b[38;5;66;03m# this function, and just call forward.\u001b[39;00m\n\u001b[0;32m   1498\u001b[0m \u001b[38;5;28;01mif\u001b[39;00m \u001b[38;5;129;01mnot\u001b[39;00m (\u001b[38;5;28mself\u001b[39m\u001b[38;5;241m.\u001b[39m_backward_hooks \u001b[38;5;129;01mor\u001b[39;00m \u001b[38;5;28mself\u001b[39m\u001b[38;5;241m.\u001b[39m_backward_pre_hooks \u001b[38;5;129;01mor\u001b[39;00m \u001b[38;5;28mself\u001b[39m\u001b[38;5;241m.\u001b[39m_forward_hooks \u001b[38;5;129;01mor\u001b[39;00m \u001b[38;5;28mself\u001b[39m\u001b[38;5;241m.\u001b[39m_forward_pre_hooks\n\u001b[0;32m   1499\u001b[0m         \u001b[38;5;129;01mor\u001b[39;00m _global_backward_pre_hooks \u001b[38;5;129;01mor\u001b[39;00m _global_backward_hooks\n\u001b[0;32m   1500\u001b[0m         \u001b[38;5;129;01mor\u001b[39;00m _global_forward_hooks \u001b[38;5;129;01mor\u001b[39;00m _global_forward_pre_hooks):\n\u001b[1;32m-> 1501\u001b[0m     \u001b[38;5;28;01mreturn\u001b[39;00m forward_call(\u001b[38;5;241m*\u001b[39margs, \u001b[38;5;241m*\u001b[39m\u001b[38;5;241m*\u001b[39mkwargs)\n\u001b[0;32m   1502\u001b[0m \u001b[38;5;66;03m# Do not call functions when jit is used\u001b[39;00m\n\u001b[0;32m   1503\u001b[0m full_backward_hooks, non_full_backward_hooks \u001b[38;5;241m=\u001b[39m [], []\n",
      "Cell \u001b[1;32mIn[38], line 18\u001b[0m, in \u001b[0;36mSimpleCNN.forward\u001b[1;34m(self, x)\u001b[0m\n\u001b[0;32m     16\u001b[0m x \u001b[38;5;241m=\u001b[39m \u001b[38;5;28mself\u001b[39m\u001b[38;5;241m.\u001b[39mpool(F\u001b[38;5;241m.\u001b[39mrelu(\u001b[38;5;28mself\u001b[39m\u001b[38;5;241m.\u001b[39mconv2(x)))\n\u001b[0;32m     17\u001b[0m x \u001b[38;5;241m=\u001b[39m x\u001b[38;5;241m.\u001b[39mview(x\u001b[38;5;241m.\u001b[39msize(\u001b[38;5;241m0\u001b[39m), \u001b[38;5;241m-\u001b[39m\u001b[38;5;241m1\u001b[39m)  \u001b[38;5;66;03m# Flatten\u001b[39;00m\n\u001b[1;32m---> 18\u001b[0m x \u001b[38;5;241m=\u001b[39m F\u001b[38;5;241m.\u001b[39mrelu(\u001b[38;5;28;43mself\u001b[39;49m\u001b[38;5;241;43m.\u001b[39;49m\u001b[43mfc1\u001b[49m\u001b[43m(\u001b[49m\u001b[43mx\u001b[49m\u001b[43m)\u001b[49m)\n\u001b[0;32m     19\u001b[0m x \u001b[38;5;241m=\u001b[39m \u001b[38;5;28mself\u001b[39m\u001b[38;5;241m.\u001b[39mfc2(x)\n\u001b[0;32m     20\u001b[0m \u001b[38;5;28;01mreturn\u001b[39;00m x\n",
      "File \u001b[1;32mc:\\Users\\aero9\\AppData\\Local\\Programs\\Python\\Python310\\lib\\site-packages\\torch\\nn\\modules\\module.py:1501\u001b[0m, in \u001b[0;36mModule._call_impl\u001b[1;34m(self, *args, **kwargs)\u001b[0m\n\u001b[0;32m   1496\u001b[0m \u001b[38;5;66;03m# If we don't have any hooks, we want to skip the rest of the logic in\u001b[39;00m\n\u001b[0;32m   1497\u001b[0m \u001b[38;5;66;03m# this function, and just call forward.\u001b[39;00m\n\u001b[0;32m   1498\u001b[0m \u001b[38;5;28;01mif\u001b[39;00m \u001b[38;5;129;01mnot\u001b[39;00m (\u001b[38;5;28mself\u001b[39m\u001b[38;5;241m.\u001b[39m_backward_hooks \u001b[38;5;129;01mor\u001b[39;00m \u001b[38;5;28mself\u001b[39m\u001b[38;5;241m.\u001b[39m_backward_pre_hooks \u001b[38;5;129;01mor\u001b[39;00m \u001b[38;5;28mself\u001b[39m\u001b[38;5;241m.\u001b[39m_forward_hooks \u001b[38;5;129;01mor\u001b[39;00m \u001b[38;5;28mself\u001b[39m\u001b[38;5;241m.\u001b[39m_forward_pre_hooks\n\u001b[0;32m   1499\u001b[0m         \u001b[38;5;129;01mor\u001b[39;00m _global_backward_pre_hooks \u001b[38;5;129;01mor\u001b[39;00m _global_backward_hooks\n\u001b[0;32m   1500\u001b[0m         \u001b[38;5;129;01mor\u001b[39;00m _global_forward_hooks \u001b[38;5;129;01mor\u001b[39;00m _global_forward_pre_hooks):\n\u001b[1;32m-> 1501\u001b[0m     \u001b[38;5;28;01mreturn\u001b[39;00m forward_call(\u001b[38;5;241m*\u001b[39margs, \u001b[38;5;241m*\u001b[39m\u001b[38;5;241m*\u001b[39mkwargs)\n\u001b[0;32m   1502\u001b[0m \u001b[38;5;66;03m# Do not call functions when jit is used\u001b[39;00m\n\u001b[0;32m   1503\u001b[0m full_backward_hooks, non_full_backward_hooks \u001b[38;5;241m=\u001b[39m [], []\n",
      "File \u001b[1;32mc:\\Users\\aero9\\AppData\\Local\\Programs\\Python\\Python310\\lib\\site-packages\\torch\\nn\\modules\\linear.py:114\u001b[0m, in \u001b[0;36mLinear.forward\u001b[1;34m(self, input)\u001b[0m\n\u001b[0;32m    113\u001b[0m \u001b[38;5;28;01mdef\u001b[39;00m \u001b[38;5;21mforward\u001b[39m(\u001b[38;5;28mself\u001b[39m, \u001b[38;5;28minput\u001b[39m: Tensor) \u001b[38;5;241m-\u001b[39m\u001b[38;5;241m>\u001b[39m Tensor:\n\u001b[1;32m--> 114\u001b[0m     \u001b[38;5;28;01mreturn\u001b[39;00m \u001b[43mF\u001b[49m\u001b[38;5;241;43m.\u001b[39;49m\u001b[43mlinear\u001b[49m\u001b[43m(\u001b[49m\u001b[38;5;28;43minput\u001b[39;49m\u001b[43m,\u001b[49m\u001b[43m \u001b[49m\u001b[38;5;28;43mself\u001b[39;49m\u001b[38;5;241;43m.\u001b[39;49m\u001b[43mweight\u001b[49m\u001b[43m,\u001b[49m\u001b[43m \u001b[49m\u001b[38;5;28;43mself\u001b[39;49m\u001b[38;5;241;43m.\u001b[39;49m\u001b[43mbias\u001b[49m\u001b[43m)\u001b[49m\n",
      "\u001b[1;31mRuntimeError\u001b[0m: mat1 and mat2 shapes cannot be multiplied (32x1048576 and 262144x128)"
     ]
    }
   ],
   "source": [
    "# Dataset1_4_na\n",
    "\n",
    "num_classes = len(dataset1_4_na.classes)  # Number of classes in the dataset\n",
    "\n",
    "all_dataloaders1_4_na = get_all_fold_dataloaders(class_weights1_4_na, folds1_4_na, batch_size=batch_size, shuffle=shuffle)\n",
    "\n",
    "# Initialize the model, loss function, and optimizer\n",
    "model = SimpleCNN(num_classes=num_classes)\n",
    "criterion = nn.CrossEntropyLoss()\n",
    "optimizer = optim.Adam(model.parameters(), lr=0.001)\n",
    "\n",
    "for fold_idx, (train_loader, val_loader) in enumerate(all_dataloaders1_4_na):\n",
    "    print(f\"Training Fold {fold_idx + 1}/{len(all_dataloaders1_4_na)}\")\n",
    "    model = train_model(model, criterion, optimizer, train_loader, val_loader, num_epochs=10, device=device)\n"
   ]
  },
  {
   "cell_type": "markdown",
   "metadata": {},
   "source": [
    "# Evaluate Across Folds"
   ]
  },
  {
   "cell_type": "code",
   "execution_count": null,
   "metadata": {},
   "outputs": [],
   "source": [
    "# Collect results across all folds\n",
    "overall_y_true = []\n",
    "overall_y_pred = []\n",
    "\n",
    "for fold_idx, (train_loader, val_loader) in enumerate(all_dataloaders1_4_na):\n",
    "    model.eval()\n",
    "    y_true, y_pred = [], []\n",
    "    with torch.no_grad():\n",
    "        for inputs, labels in val_loader:\n",
    "            inputs, labels = inputs.to(device), labels.to(device)\n",
    "            outputs = model(inputs)\n",
    "            _, preds = torch.max(outputs, 1)\n",
    "            y_true.extend(labels.cpu().numpy())\n",
    "            y_pred.extend(preds.cpu().numpy())\n",
    "\n",
    "    overall_y_true.extend(y_true)\n",
    "    overall_y_pred.extend(y_pred)\n",
    "\n",
    "# Classification report for the aggregated results\n",
    "print(classification_report(overall_y_true, overall_y_pred))\n"
   ]
  },
  {
   "cell_type": "markdown",
   "metadata": {},
   "source": [
    "# Save Model"
   ]
  },
  {
   "cell_type": "code",
   "execution_count": null,
   "metadata": {},
   "outputs": [],
   "source": [
    "# Save the model\n",
    "torch.save(model.state_dict(), f\"model_fold_{fold_idx + 1}.pth\")\n"
   ]
  },
  {
   "cell_type": "markdown",
   "metadata": {},
   "source": [
    "# Load Model"
   ]
  },
  {
   "cell_type": "code",
   "execution_count": null,
   "metadata": {},
   "outputs": [],
   "source": [
    "# Load the model (if needed)\n",
    "model.load_state_dict(torch.load(\"model_fold_1.pth\"))\n",
    "model.eval()"
   ]
  },
  {
   "cell_type": "code",
   "execution_count": null,
   "metadata": {},
   "outputs": [],
   "source": []
  },
  {
   "cell_type": "code",
   "execution_count": null,
   "metadata": {},
   "outputs": [],
   "source": []
  },
  {
   "cell_type": "code",
   "execution_count": null,
   "metadata": {},
   "outputs": [],
   "source": [
    "import torch.nn as nn\n",
    "import torch.nn.functional as F\n",
    "\n",
    "'''\n",
    "nn.Conv2d - input features, output features, kernel window like 3x3, stride, padding\n",
    "'''\n",
    "\n",
    "class SimpleCNN(nn.Module):\n",
    "    def __init__(self, num_output_classes):\n",
    "        super(SimpleCNN, self).__init__()\n",
    "        self.conv1 = nn.Conv2d(in_channels=1, out_channels=32, kernel_size=3, stride=1, padding=0) # input features are RGP channels, and 32 are ouutput features\n",
    "        self.conv2 = nn.Conv2d(in_channels=32, out_channels=64, kernel_size=3, stride=1, padding=0)\n",
    "        self.pool = nn.MaxPool2d(kernel_size=2, stride=2)\n",
    "        self.fc1 = nn.Linear(64 * 64  * 64 , 128)  # 1st is 64 features / filters, 2nd 64 is height of image, 3rd 64 is the width of image, the 128 is the output \n",
    "        self.fc2 = nn.Linear(128, num_output_classes)\n",
    "\n",
    "    def forward(self, x):\n",
    "        x = F.relu(self.conv1(x))\n",
    "        x = self.pool(F.relu(self.conv2(x)))\n",
    "        x = x.view(x.size(0), -1)  # Flatten the tensor\n",
    "        x = F.relu(self.fc1(x))\n",
    "        x = self.fc2(x)\n",
    "        return x\n"
   ]
  },
  {
   "cell_type": "code",
   "execution_count": null,
   "metadata": {},
   "outputs": [],
   "source": []
  },
  {
   "cell_type": "code",
   "execution_count": null,
   "metadata": {},
   "outputs": [],
   "source": []
  },
  {
   "cell_type": "code",
   "execution_count": null,
   "metadata": {},
   "outputs": [],
   "source": [
    "import torch\n",
    "import torch.nn as nn\n",
    "import torch.optim as optim\n",
    "from torch.utils.data import DataLoader\n",
    "\n",
    "# Example CNN from scratch\n",
    "class SimpleCNN(nn.Module):\n",
    "    def __init__(self, num_classes=2):\n",
    "        super(SimpleCNN, self).__init__()\n",
    "        \n",
    "        # Feature extractor (convolutional layers)\n",
    "        self.features = nn.Sequential(\n",
    "            nn.Conv2d(in_channels=3, out_channels=16, kernel_size=3, stride=1, padding=1),\n",
    "            nn.ReLU(),\n",
    "            nn.MaxPool2d(kernel_size=2),  # output: 16 x 112 x 112\n",
    "\n",
    "            nn.Conv2d(in_channels=16, out_channels=32, kernel_size=3, stride=1, padding=1),\n",
    "            nn.ReLU(),\n",
    "            nn.MaxPool2d(kernel_size=2),  # output: 32 x 56 x 56\n",
    "\n",
    "            nn.Conv2d(in_channels=32, out_channels=64, kernel_size=3, stride=1, padding=1),\n",
    "            nn.ReLU(),\n",
    "            nn.MaxPool2d(kernel_size=2),  # output: 64 x 28 x 28\n",
    "        )\n",
    "        \n",
    "        # Classifier (fully-connected layers)\n",
    "        self.classifier = nn.Sequential(\n",
    "            nn.Linear(64 * 28 * 28, 128),\n",
    "            nn.ReLU(),\n",
    "            nn.Dropout(p=0.5),\n",
    "            nn.Linear(128, num_classes)  # num_classes=2 for binary classification\n",
    "        )\n",
    "\n",
    "    def forward(self, x):\n",
    "        x = self.features(x)\n",
    "        # Flatten the output of the convolutional layers\n",
    "        x = x.view(x.size(0), -1)\n",
    "        x = self.classifier(x)\n",
    "        return x"
   ]
  },
  {
   "cell_type": "markdown",
   "metadata": {},
   "source": [
    "# Model Parameters"
   ]
  },
  {
   "cell_type": "code",
   "execution_count": null,
   "metadata": {},
   "outputs": [],
   "source": [
    "# Choose your device (GPU if available)\n",
    "device = torch.device('cuda' if torch.cuda.is_available() else 'cpu')\n",
    "model.to(device)\n",
    "\n",
    "# Instantiate the model\n",
    "model = SimpleCNN(num_classes=2)\n",
    "\n",
    "# Define Loss and Optimizer\n",
    "criterion = nn.CrossEntropyLoss()  # good for multi-class or binary with 'num_classes=2'\n",
    "optimizer = optim.Adam(model.parameters(), lr=1e-3)\n",
    "\n",
    "# Hyper parameters"
   ]
  },
  {
   "cell_type": "markdown",
   "metadata": {},
   "source": [
    "# Training"
   ]
  },
  {
   "cell_type": "code",
   "execution_count": null,
   "metadata": {},
   "outputs": [],
   "source": [
    "num_epochs = 10  # change as you see fit\n",
    "\n",
    "for epoch in range(num_epochs):\n",
    "    model.train()  # Set model to training mode\n",
    "    running_loss = 0.0\n",
    "    correct = 0\n",
    "    total = 0\n",
    "    \n",
    "    for images, labels in train_loader:\n",
    "        # Move data to the device (GPU or CPU)\n",
    "        images = images.to(device)\n",
    "        labels = labels.to(device)\n",
    "        \n",
    "        # Forward pass\n",
    "        outputs = model(images)\n",
    "        loss = criterion(outputs, labels)\n",
    "        \n",
    "        # Backprop and optimize\n",
    "        optimizer.zero_grad()\n",
    "        loss.backward()\n",
    "        optimizer.step()\n",
    "        \n",
    "        # Accumulate loss\n",
    "        running_loss += loss.item() * images.size(0)\n",
    "        \n",
    "        # Calculate training accuracy in this batch\n",
    "        _, predicted = torch.max(outputs, 1)\n",
    "        correct += (predicted == labels).sum().item()\n",
    "        total += labels.size(0)\n",
    "    \n",
    "    epoch_loss = running_loss / len(train_loader.dataset)\n",
    "    epoch_acc = 100.0 * correct / total\n",
    "    \n",
    "    print(f\"Epoch [{epoch+1}/{num_epochs}], Loss: {epoch_loss:.4f}, Accuracy: {epoch_acc:.2f}%\")\n"
   ]
  },
  {
   "cell_type": "markdown",
   "metadata": {},
   "source": [
    "# Future Scope\n",
    "\n",
    "I will need to figure out a better way to organize and manipulate data while not using so many duplicate folders. If the image data set is large, then all this duplication and augmentation will really explode the memory."
   ]
  },
  {
   "cell_type": "markdown",
   "metadata": {},
   "source": []
  }
 ],
 "metadata": {
  "kernelspec": {
   "display_name": "Python 3",
   "language": "python",
   "name": "python3"
  },
  "language_info": {
   "codemirror_mode": {
    "name": "ipython",
    "version": 3
   },
   "file_extension": ".py",
   "mimetype": "text/x-python",
   "name": "python",
   "nbconvert_exporter": "python",
   "pygments_lexer": "ipython3",
   "version": "3.10.11"
  }
 },
 "nbformat": 4,
 "nbformat_minor": 2
}
