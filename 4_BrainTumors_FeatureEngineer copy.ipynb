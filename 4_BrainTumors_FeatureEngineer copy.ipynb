{
 "cells": [
  {
   "cell_type": "markdown",
   "metadata": {},
   "source": [
    "# Predictive Brain Tumor Image AI Project - Feature Engineer\n",
    "\n",
    "To make an image-processing brain tumor predictive model to automate on scale."
   ]
  },
  {
   "cell_type": "code",
   "execution_count": null,
   "metadata": {},
   "outputs": [],
   "source": [
    "import os\n",
    "import numpy as np\n",
    "import torch\n",
    "import torch.nn as nn\n",
    "import torch.optim as optim\n",
    "from torchvision import datasets, transforms, models\n",
    "from torch.utils.data import DataLoader, random_split\n",
    "import matplotlib.pyplot as plt"
   ]
  },
  {
   "cell_type": "code",
   "execution_count": null,
   "metadata": {},
   "outputs": [],
   "source": [
    "# Define Data Transformations\n",
    "data_transforms = {\n",
    "    'train': transforms.Compose([\n",
    "        transforms.Resize((224, 224)),\n",
    "        transforms.RandomHorizontalFlip(), # when training will 50% flip the image horizontally. Making a copy of the image and flipping it may add bias, thus why we do this controlled randomness method.\n",
    "        transforms.ToTensor(),\n",
    "        transforms.Normalize([0.485, 0.456, 0.406], [0.229, 0.224, 0.225])\n",
    "    ]),\n",
    "    'test': transforms.Compose([\n",
    "        transforms.Resize((224, 224)),\n",
    "        transforms.ToTensor(),\n",
    "        transforms.Normalize([0.485, 0.456, 0.406], [0.229, 0.224, 0.225])\n",
    "    ])\n",
    "}\n",
    "\n",
    "# Data path\n",
    "train_dir = './ImageData1-Training'\n",
    "test_dir = './ImageData2-Testing'\n",
    "\n",
    "# Dataset setup\n",
    "train_dataset = datasets.ImageFolder(train_dir, transform=data_transforms['train'])\n",
    "test_dataset = datasets.ImageFolder(test_dir, transform=data_transforms['test'])\n",
    "'''\n",
    "Reminder:\n",
    "Pytorch dataset's ImageFolder is design to expect a parent folder, and inside sub folder with the images, and these subfolders will auto be used as the label in the training.\n",
    "'''\n",
    "\n",
    "\n",
    "# Add labels to dataset\n",
    "class_map = {\n",
    "    'glioma': 1,  # cancer\n",
    "    'meningioma': 0,  # normal\n",
    "    'notumor': 0,  # normal\n",
    "    'pituitary': 0   # normal\n",
    "}\n",
    "'''\n",
    "As mentioned in EDA,\n",
    "I am thinking of making Glioma classified as cancer in training \n",
    "and Notumor (no tumor), Meningioma, and Pituitary as no cancer in training\n",
    "\n",
    "Allows me to keep the separated subfolder structure for the images.\n",
    "Glioma is the only cancer, while the others are just no tumor or benign tumors. \n",
    "'''\n",
    "\n",
    "train_dataset.targets = [class_map[train_dataset.classes[label]] for label in train_dataset.targets]\n",
    "test_dataset.targets = [class_map[test_dataset.classes[label]] for label in test_dataset.targets]\n",
    "\n",
    "# Dataloader\n",
    "train_loader = DataLoader(train_dataset, batch_size=32, shuffle=True)  # Shuffle for training\n",
    "test_loader = DataLoader(test_dataset, batch_size=32, shuffle=False)   # No shuffle for testing\n"
   ]
  }
 ],
 "metadata": {
  "language_info": {
   "name": "python"
  }
 },
 "nbformat": 4,
 "nbformat_minor": 2
}
